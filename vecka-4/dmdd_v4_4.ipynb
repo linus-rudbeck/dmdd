{
 "cells": [
  {
   "cell_type": "markdown",
   "id": "76347aa2",
   "metadata": {},
   "source": [
    "# Master Data Management"
   ]
  },
  {
   "cell_type": "code",
   "execution_count": 17,
   "id": "31f83b58",
   "metadata": {},
   "outputs": [],
   "source": [
    "import pandas as pd\n",
    "import requests\n",
    "from sqlalchemy import create_engine"
   ]
  },
  {
   "cell_type": "markdown",
   "id": "af469ee6",
   "metadata": {},
   "source": [
    "## Exportera\n",
    "\n",
    "### Hämta från API"
   ]
  },
  {
   "cell_type": "code",
   "execution_count": 9,
   "id": "1e73c08c",
   "metadata": {},
   "outputs": [],
   "source": [
    "def get_df_from_api(endpoint):\n",
    "    BASE_URL = \"https://jsonplaceholder.typicode.com\"\n",
    "    \n",
    "    response = requests.get(f\"{BASE_URL}{endpoint}\")\n",
    "    data = response.json()\n",
    "    return pd.DataFrame(data)\n",
    "\n",
    "def format_address(row):\n",
    "    address = row[\"address\"]\n",
    "    street = address[\"street\"]\n",
    "    suite = address[\"suite\"]\n",
    "    zipcode = address[\"zipcode\"]\n",
    "    city = address[\"city\"]\n",
    "    \n",
    "    return f\"{street} {suite}\\n{zipcode} {city}\"\n",
    "\n",
    "df_users = get_df_from_api(\"/users\")\n",
    "df_posts = get_df_from_api(\"/posts\")\n",
    "df_comments = get_df_from_api(\"/comments\")\n",
    "\n",
    "df_users[\"formatted_address\"] = df_users.apply(format_address, axis=1)\n",
    "df_users.drop(\"company\", axis=1, inplace=True)\n",
    "df_users.drop(\"address\", axis=1, inplace=True)"
   ]
  },
  {
   "cell_type": "markdown",
   "id": "488d532c",
   "metadata": {},
   "source": [
    "### Hämta från csv"
   ]
  },
  {
   "cell_type": "code",
   "execution_count": 10,
   "id": "9bce751a",
   "metadata": {},
   "outputs": [
    {
     "data": {
      "text/html": [
       "<div>\n",
       "<style scoped>\n",
       "    .dataframe tbody tr th:only-of-type {\n",
       "        vertical-align: middle;\n",
       "    }\n",
       "\n",
       "    .dataframe tbody tr th {\n",
       "        vertical-align: top;\n",
       "    }\n",
       "\n",
       "    .dataframe thead th {\n",
       "        text-align: right;\n",
       "    }\n",
       "</style>\n",
       "<table border=\"1\" class=\"dataframe\">\n",
       "  <thead>\n",
       "    <tr style=\"text-align: right;\">\n",
       "      <th></th>\n",
       "      <th>product_id</th>\n",
       "      <th>product_category_name</th>\n",
       "      <th>product_name_lenght</th>\n",
       "      <th>product_description_lenght</th>\n",
       "      <th>product_photos_qty</th>\n",
       "      <th>product_weight_g</th>\n",
       "      <th>product_length_cm</th>\n",
       "      <th>product_height_cm</th>\n",
       "      <th>product_width_cm</th>\n",
       "    </tr>\n",
       "  </thead>\n",
       "  <tbody>\n",
       "    <tr>\n",
       "      <th>0</th>\n",
       "      <td>1e9e8ef04dbcff4541ed26657ea517e5</td>\n",
       "      <td>perfumaria</td>\n",
       "      <td>40.0</td>\n",
       "      <td>287.0</td>\n",
       "      <td>1.0</td>\n",
       "      <td>225.0</td>\n",
       "      <td>16.0</td>\n",
       "      <td>10.0</td>\n",
       "      <td>14.0</td>\n",
       "    </tr>\n",
       "    <tr>\n",
       "      <th>1</th>\n",
       "      <td>3aa071139cb16b67ca9e5dea641aaa2f</td>\n",
       "      <td>artes</td>\n",
       "      <td>44.0</td>\n",
       "      <td>276.0</td>\n",
       "      <td>1.0</td>\n",
       "      <td>1000.0</td>\n",
       "      <td>30.0</td>\n",
       "      <td>18.0</td>\n",
       "      <td>20.0</td>\n",
       "    </tr>\n",
       "    <tr>\n",
       "      <th>2</th>\n",
       "      <td>96bd76ec8810374ed1b65e291975717f</td>\n",
       "      <td>esporte_lazer</td>\n",
       "      <td>46.0</td>\n",
       "      <td>250.0</td>\n",
       "      <td>1.0</td>\n",
       "      <td>154.0</td>\n",
       "      <td>18.0</td>\n",
       "      <td>9.0</td>\n",
       "      <td>15.0</td>\n",
       "    </tr>\n",
       "    <tr>\n",
       "      <th>3</th>\n",
       "      <td>cef67bcfe19066a932b7673e239eb23d</td>\n",
       "      <td>bebes</td>\n",
       "      <td>27.0</td>\n",
       "      <td>261.0</td>\n",
       "      <td>1.0</td>\n",
       "      <td>371.0</td>\n",
       "      <td>26.0</td>\n",
       "      <td>4.0</td>\n",
       "      <td>26.0</td>\n",
       "    </tr>\n",
       "    <tr>\n",
       "      <th>4</th>\n",
       "      <td>9dc1a7de274444849c219cff195d0b71</td>\n",
       "      <td>utilidades_domesticas</td>\n",
       "      <td>37.0</td>\n",
       "      <td>402.0</td>\n",
       "      <td>4.0</td>\n",
       "      <td>625.0</td>\n",
       "      <td>20.0</td>\n",
       "      <td>17.0</td>\n",
       "      <td>13.0</td>\n",
       "    </tr>\n",
       "  </tbody>\n",
       "</table>\n",
       "</div>"
      ],
      "text/plain": [
       "                         product_id  product_category_name  \\\n",
       "0  1e9e8ef04dbcff4541ed26657ea517e5             perfumaria   \n",
       "1  3aa071139cb16b67ca9e5dea641aaa2f                  artes   \n",
       "2  96bd76ec8810374ed1b65e291975717f          esporte_lazer   \n",
       "3  cef67bcfe19066a932b7673e239eb23d                  bebes   \n",
       "4  9dc1a7de274444849c219cff195d0b71  utilidades_domesticas   \n",
       "\n",
       "   product_name_lenght  product_description_lenght  product_photos_qty  \\\n",
       "0                 40.0                       287.0                 1.0   \n",
       "1                 44.0                       276.0                 1.0   \n",
       "2                 46.0                       250.0                 1.0   \n",
       "3                 27.0                       261.0                 1.0   \n",
       "4                 37.0                       402.0                 4.0   \n",
       "\n",
       "   product_weight_g  product_length_cm  product_height_cm  product_width_cm  \n",
       "0             225.0               16.0               10.0              14.0  \n",
       "1            1000.0               30.0               18.0              20.0  \n",
       "2             154.0               18.0                9.0              15.0  \n",
       "3             371.0               26.0                4.0              26.0  \n",
       "4             625.0               20.0               17.0              13.0  "
      ]
     },
     "execution_count": 10,
     "metadata": {},
     "output_type": "execute_result"
    }
   ],
   "source": [
    "df_products = pd.read_csv(\"olist_products_dataset.csv\")\n",
    "df_products.head()"
   ]
  },
  {
   "cell_type": "markdown",
   "id": "e357ba26",
   "metadata": {},
   "source": [
    "### Hämta från MySQL"
   ]
  },
  {
   "cell_type": "code",
   "execution_count": 23,
   "id": "4ad5c011",
   "metadata": {},
   "outputs": [],
   "source": [
    "connection_string = \"mysql+mysqlconnector://root@localhost/northwind\"\n",
    "\n",
    "engine = create_engine(connection_string)\n",
    "\n",
    "connection = engine.connect()\n",
    "\n",
    "query = \"SELECT * FROM customers\"\n",
    "\n",
    "df_customers = pd.read_sql(query, connection)"
   ]
  },
  {
   "cell_type": "markdown",
   "id": "ae971fb7",
   "metadata": {},
   "source": [
    "## Importera\n",
    "\n",
    "### Till csv-filer"
   ]
  },
  {
   "cell_type": "code",
   "execution_count": 24,
   "id": "3a722138",
   "metadata": {},
   "outputs": [],
   "source": [
    "df_users.to_csv(\"df_users.csv\")\n",
    "df_posts.to_csv(\"df_posts.csv\")\n",
    "df_comments.to_csv(\"df_comments.csv\")\n",
    "df_products.to_csv(\"df_products.csv\")\n",
    "df_customers.to_csv(\"df_customers.csv\")"
   ]
  },
  {
   "cell_type": "markdown",
   "id": "34eed07e",
   "metadata": {},
   "source": [
    "### Till MySQL-databas"
   ]
  },
  {
   "cell_type": "code",
   "execution_count": 29,
   "id": "bb96dcd1",
   "metadata": {
    "scrolled": false
   },
   "outputs": [
    {
     "data": {
      "text/plain": [
       "29"
      ]
     },
     "execution_count": 29,
     "metadata": {},
     "output_type": "execute_result"
    }
   ],
   "source": [
    "connection_string = \"mysql+mysqlconnector://root@localhost/dmdd_mdm_db\"\n",
    "\n",
    "engine = create_engine(connection_string)\n",
    "\n",
    "connection = engine.connect()\n",
    "\n",
    "df_users.to_sql(\"df_users\", connection, if_exists=\"replace\", index=False)\n",
    "df_posts.to_sql(\"df_posts\", connection, if_exists=\"replace\", index=False)\n",
    "df_comments.to_sql(\"df_comments\", connection, if_exists=\"replace\", index=False)\n",
    "df_customers.to_sql(\"df_customers\", connection, if_exists=\"replace\", index=False)"
   ]
  },
  {
   "cell_type": "code",
   "execution_count": 31,
   "id": "884d810d",
   "metadata": {},
   "outputs": [
    {
     "data": {
      "text/plain": [
       "32951"
      ]
     },
     "execution_count": 31,
     "metadata": {},
     "output_type": "execute_result"
    }
   ],
   "source": [
    "df_products.to_sql(\"df_products\", connection, if_exists=\"replace\", index=False, chunksize=50, method='multi')"
   ]
  }
 ],
 "metadata": {
  "kernelspec": {
   "display_name": "Python 3 (ipykernel)",
   "language": "python",
   "name": "python3"
  },
  "language_info": {
   "codemirror_mode": {
    "name": "ipython",
    "version": 3
   },
   "file_extension": ".py",
   "mimetype": "text/x-python",
   "name": "python",
   "nbconvert_exporter": "python",
   "pygments_lexer": "ipython3",
   "version": "3.9.12"
  }
 },
 "nbformat": 4,
 "nbformat_minor": 5
}
