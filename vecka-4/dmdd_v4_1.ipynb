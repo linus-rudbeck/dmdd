{
 "cells": [
  {
   "cell_type": "markdown",
   "id": "0823f1e1",
   "metadata": {},
   "source": [
    "# Hämta data från API\n",
    "\n",
    "Här hämtar vi data från ett API, städar den och sparar som CSV.\n",
    "\n",
    "**Steg 1: Importera nödvändiga bibliotek**\n",
    "\n",
    "- `pandas` använder vi för att hantera data.\n",
    "- `requests` använder vi för att skicka förfrågningar (förfrågan på engelska = \"request\")\n",
    "    - I andra språk kan detta heta \"axios\" eller \"fetch\""
   ]
  },
  {
   "cell_type": "code",
   "execution_count": 2,
   "id": "9944bf46",
   "metadata": {},
   "outputs": [],
   "source": [
    "import pandas as pd\n",
    "import requests"
   ]
  },
  {
   "cell_type": "markdown",
   "id": "4a8133d1",
   "metadata": {},
   "source": [
    "**Steg 2: Definiera APIets URLer**"
   ]
  },
  {
   "cell_type": "code",
   "execution_count": 5,
   "id": "d7663a0e",
   "metadata": {},
   "outputs": [
    {
     "data": {
      "text/plain": [
       "('https://jsonplaceholder.typicode.com/users',\n",
       " 'https://jsonplaceholder.typicode.com/posts',\n",
       " 'https://jsonplaceholder.typicode.com/comments')"
      ]
     },
     "execution_count": 5,
     "metadata": {},
     "output_type": "execute_result"
    }
   ],
   "source": [
    "BASE_URL = \"https://jsonplaceholder.typicode.com\"\n",
    "USERS_URL = f\"{BASE_URL}/users\" # https://jsonplaceholder.typicode.com/users\n",
    "POSTS_URL = f\"{BASE_URL}/posts\"\n",
    "COMMENTS_URL = f\"{BASE_URL}/comments\"\n",
    "\n",
    "(USERS_URL, POSTS_URL, COMMENTS_URL)"
   ]
  },
  {
   "cell_type": "markdown",
   "id": "6c8333d5",
   "metadata": {},
   "source": [
    "**Steg 3: Hämta users**\n",
    "\n",
    "- En *Request* är en förfrågan som skickas från en klient till en server\n",
    "- Ett *Response* är svaret som servern skickar tillbaka\n",
    "- *Get* innebär att vi vill hämta någonting från servern"
   ]
  },
  {
   "cell_type": "code",
   "execution_count": 6,
   "id": "0a36a162",
   "metadata": {},
   "outputs": [
    {
     "data": {
      "text/plain": [
       "<Response [200]>"
      ]
     },
     "execution_count": 6,
     "metadata": {},
     "output_type": "execute_result"
    }
   ],
   "source": [
    "response = requests.get(USERS_URL)\n",
    "\n",
    "response"
   ]
  },
  {
   "cell_type": "markdown",
   "id": "a6c75f59",
   "metadata": {},
   "source": [
    "**Steg 4: Konvertera datan**"
   ]
  },
  {
   "cell_type": "code",
   "execution_count": 10,
   "id": "ca24d6ea",
   "metadata": {},
   "outputs": [
    {
     "data": {
      "text/html": [
       "<div>\n",
       "<style scoped>\n",
       "    .dataframe tbody tr th:only-of-type {\n",
       "        vertical-align: middle;\n",
       "    }\n",
       "\n",
       "    .dataframe tbody tr th {\n",
       "        vertical-align: top;\n",
       "    }\n",
       "\n",
       "    .dataframe thead th {\n",
       "        text-align: right;\n",
       "    }\n",
       "</style>\n",
       "<table border=\"1\" class=\"dataframe\">\n",
       "  <thead>\n",
       "    <tr style=\"text-align: right;\">\n",
       "      <th></th>\n",
       "      <th>id</th>\n",
       "      <th>name</th>\n",
       "      <th>username</th>\n",
       "      <th>email</th>\n",
       "      <th>address</th>\n",
       "      <th>phone</th>\n",
       "      <th>website</th>\n",
       "      <th>company</th>\n",
       "    </tr>\n",
       "  </thead>\n",
       "  <tbody>\n",
       "    <tr>\n",
       "      <th>0</th>\n",
       "      <td>1</td>\n",
       "      <td>Leanne Graham</td>\n",
       "      <td>Bret</td>\n",
       "      <td>Sincere@april.biz</td>\n",
       "      <td>{'street': 'Kulas Light', 'suite': 'Apt. 556',...</td>\n",
       "      <td>1-770-736-8031 x56442</td>\n",
       "      <td>hildegard.org</td>\n",
       "      <td>{'name': 'Romaguera-Crona', 'catchPhrase': 'Mu...</td>\n",
       "    </tr>\n",
       "    <tr>\n",
       "      <th>1</th>\n",
       "      <td>2</td>\n",
       "      <td>Ervin Howell</td>\n",
       "      <td>Antonette</td>\n",
       "      <td>Shanna@melissa.tv</td>\n",
       "      <td>{'street': 'Victor Plains', 'suite': 'Suite 87...</td>\n",
       "      <td>010-692-6593 x09125</td>\n",
       "      <td>anastasia.net</td>\n",
       "      <td>{'name': 'Deckow-Crist', 'catchPhrase': 'Proac...</td>\n",
       "    </tr>\n",
       "    <tr>\n",
       "      <th>2</th>\n",
       "      <td>3</td>\n",
       "      <td>Clementine Bauch</td>\n",
       "      <td>Samantha</td>\n",
       "      <td>Nathan@yesenia.net</td>\n",
       "      <td>{'street': 'Douglas Extension', 'suite': 'Suit...</td>\n",
       "      <td>1-463-123-4447</td>\n",
       "      <td>ramiro.info</td>\n",
       "      <td>{'name': 'Romaguera-Jacobson', 'catchPhrase': ...</td>\n",
       "    </tr>\n",
       "    <tr>\n",
       "      <th>3</th>\n",
       "      <td>4</td>\n",
       "      <td>Patricia Lebsack</td>\n",
       "      <td>Karianne</td>\n",
       "      <td>Julianne.OConner@kory.org</td>\n",
       "      <td>{'street': 'Hoeger Mall', 'suite': 'Apt. 692',...</td>\n",
       "      <td>493-170-9623 x156</td>\n",
       "      <td>kale.biz</td>\n",
       "      <td>{'name': 'Robel-Corkery', 'catchPhrase': 'Mult...</td>\n",
       "    </tr>\n",
       "    <tr>\n",
       "      <th>4</th>\n",
       "      <td>5</td>\n",
       "      <td>Chelsey Dietrich</td>\n",
       "      <td>Kamren</td>\n",
       "      <td>Lucio_Hettinger@annie.ca</td>\n",
       "      <td>{'street': 'Skiles Walks', 'suite': 'Suite 351...</td>\n",
       "      <td>(254)954-1289</td>\n",
       "      <td>demarco.info</td>\n",
       "      <td>{'name': 'Keebler LLC', 'catchPhrase': 'User-c...</td>\n",
       "    </tr>\n",
       "  </tbody>\n",
       "</table>\n",
       "</div>"
      ],
      "text/plain": [
       "   id              name   username                      email  \\\n",
       "0   1     Leanne Graham       Bret          Sincere@april.biz   \n",
       "1   2      Ervin Howell  Antonette          Shanna@melissa.tv   \n",
       "2   3  Clementine Bauch   Samantha         Nathan@yesenia.net   \n",
       "3   4  Patricia Lebsack   Karianne  Julianne.OConner@kory.org   \n",
       "4   5  Chelsey Dietrich     Kamren   Lucio_Hettinger@annie.ca   \n",
       "\n",
       "                                             address                  phone  \\\n",
       "0  {'street': 'Kulas Light', 'suite': 'Apt. 556',...  1-770-736-8031 x56442   \n",
       "1  {'street': 'Victor Plains', 'suite': 'Suite 87...    010-692-6593 x09125   \n",
       "2  {'street': 'Douglas Extension', 'suite': 'Suit...         1-463-123-4447   \n",
       "3  {'street': 'Hoeger Mall', 'suite': 'Apt. 692',...      493-170-9623 x156   \n",
       "4  {'street': 'Skiles Walks', 'suite': 'Suite 351...          (254)954-1289   \n",
       "\n",
       "         website                                            company  \n",
       "0  hildegard.org  {'name': 'Romaguera-Crona', 'catchPhrase': 'Mu...  \n",
       "1  anastasia.net  {'name': 'Deckow-Crist', 'catchPhrase': 'Proac...  \n",
       "2    ramiro.info  {'name': 'Romaguera-Jacobson', 'catchPhrase': ...  \n",
       "3       kale.biz  {'name': 'Robel-Corkery', 'catchPhrase': 'Mult...  \n",
       "4   demarco.info  {'name': 'Keebler LLC', 'catchPhrase': 'User-c...  "
      ]
     },
     "execution_count": 10,
     "metadata": {},
     "output_type": "execute_result"
    }
   ],
   "source": [
    "data = response.json()\n",
    "df = pd.DataFrame(data)\n",
    "df.head()"
   ]
  },
  {
   "cell_type": "markdown",
   "id": "79e99cae",
   "metadata": {},
   "source": [
    "**Steg 5: Utforska datan**"
   ]
  },
  {
   "cell_type": "code",
   "execution_count": 19,
   "id": "f6f4892b",
   "metadata": {},
   "outputs": [
    {
     "data": {
      "text/plain": [
       "{'street': 'Kulas Light',\n",
       " 'suite': 'Apt. 556',\n",
       " 'city': 'Gwenborough',\n",
       " 'zipcode': '92998-3874',\n",
       " 'geo': {'lat': '-37.3159', 'lng': '81.1496'}}"
      ]
     },
     "execution_count": 19,
     "metadata": {},
     "output_type": "execute_result"
    }
   ],
   "source": [
    "df.iloc[0][\"address\"]"
   ]
  },
  {
   "cell_type": "code",
   "execution_count": 17,
   "id": "1bac95c4",
   "metadata": {},
   "outputs": [
    {
     "data": {
      "text/plain": [
       "id           int64\n",
       "name        object\n",
       "username    object\n",
       "email       object\n",
       "address     object\n",
       "phone       object\n",
       "website     object\n",
       "company     object\n",
       "dtype: object"
      ]
     },
     "execution_count": 17,
     "metadata": {},
     "output_type": "execute_result"
    }
   ],
   "source": [
    "df.dtypes"
   ]
  },
  {
   "cell_type": "markdown",
   "id": "b32c89c7",
   "metadata": {},
   "source": [
    "**Steg 6: formatera adress**\n",
    "\n",
    "1. Skapa en funktion som fomraterar om adressen från python-objekt till en string"
   ]
  },
  {
   "cell_type": "code",
   "execution_count": 20,
   "id": "7dfbc993",
   "metadata": {},
   "outputs": [],
   "source": [
    "def format_address(row):\n",
    "    address = row[\"address\"]\n",
    "    street = address[\"street\"]\n",
    "    suite = address[\"suite\"]\n",
    "    zipcode = address[\"zipcode\"]\n",
    "    city = address[\"city\"]\n",
    "    \n",
    "    return f\"{street} {suite}\\n{zipcode} {city}\""
   ]
  },
  {
   "cell_type": "markdown",
   "id": "429475e5",
   "metadata": {},
   "source": [
    "2. Kör funktionen på varje rad\n",
    "    - `format_address`: funktionsnamnet\n",
    "    - `axis=1`: på varje rad"
   ]
  },
  {
   "cell_type": "code",
   "execution_count": 21,
   "id": "fc54ba5b",
   "metadata": {},
   "outputs": [],
   "source": [
    "df[\"formatted_address\"] = df.apply(format_address, axis=1)"
   ]
  },
  {
   "cell_type": "markdown",
   "id": "23dd4d4d",
   "metadata": {},
   "source": [
    "3. Ta bort den ursprungliga kolumnen\n",
    "    - `\"address\"`: vilken kolumn\n",
    "    - `axis=1`: Hela kolumnen\n",
    "    - `inplace=True`: ersätt nuvarande dataframe"
   ]
  },
  {
   "cell_type": "code",
   "execution_count": 24,
   "id": "3d47f239",
   "metadata": {},
   "outputs": [],
   "source": [
    "df.drop(\"address\", axis=1, inplace=True)"
   ]
  },
  {
   "cell_type": "code",
   "execution_count": 25,
   "id": "07910bae",
   "metadata": {},
   "outputs": [
    {
     "data": {
      "text/html": [
       "<div>\n",
       "<style scoped>\n",
       "    .dataframe tbody tr th:only-of-type {\n",
       "        vertical-align: middle;\n",
       "    }\n",
       "\n",
       "    .dataframe tbody tr th {\n",
       "        vertical-align: top;\n",
       "    }\n",
       "\n",
       "    .dataframe thead th {\n",
       "        text-align: right;\n",
       "    }\n",
       "</style>\n",
       "<table border=\"1\" class=\"dataframe\">\n",
       "  <thead>\n",
       "    <tr style=\"text-align: right;\">\n",
       "      <th></th>\n",
       "      <th>id</th>\n",
       "      <th>name</th>\n",
       "      <th>username</th>\n",
       "      <th>email</th>\n",
       "      <th>phone</th>\n",
       "      <th>website</th>\n",
       "      <th>company</th>\n",
       "      <th>formatted_address</th>\n",
       "    </tr>\n",
       "  </thead>\n",
       "  <tbody>\n",
       "    <tr>\n",
       "      <th>0</th>\n",
       "      <td>1</td>\n",
       "      <td>Leanne Graham</td>\n",
       "      <td>Bret</td>\n",
       "      <td>Sincere@april.biz</td>\n",
       "      <td>1-770-736-8031 x56442</td>\n",
       "      <td>hildegard.org</td>\n",
       "      <td>{'name': 'Romaguera-Crona', 'catchPhrase': 'Mu...</td>\n",
       "      <td>Kulas Light Apt. 556\\n92998-3874 Gwenborough</td>\n",
       "    </tr>\n",
       "    <tr>\n",
       "      <th>1</th>\n",
       "      <td>2</td>\n",
       "      <td>Ervin Howell</td>\n",
       "      <td>Antonette</td>\n",
       "      <td>Shanna@melissa.tv</td>\n",
       "      <td>010-692-6593 x09125</td>\n",
       "      <td>anastasia.net</td>\n",
       "      <td>{'name': 'Deckow-Crist', 'catchPhrase': 'Proac...</td>\n",
       "      <td>Victor Plains Suite 879\\n90566-7771 Wisokyburgh</td>\n",
       "    </tr>\n",
       "    <tr>\n",
       "      <th>2</th>\n",
       "      <td>3</td>\n",
       "      <td>Clementine Bauch</td>\n",
       "      <td>Samantha</td>\n",
       "      <td>Nathan@yesenia.net</td>\n",
       "      <td>1-463-123-4447</td>\n",
       "      <td>ramiro.info</td>\n",
       "      <td>{'name': 'Romaguera-Jacobson', 'catchPhrase': ...</td>\n",
       "      <td>Douglas Extension Suite 847\\n59590-4157 McKenz...</td>\n",
       "    </tr>\n",
       "    <tr>\n",
       "      <th>3</th>\n",
       "      <td>4</td>\n",
       "      <td>Patricia Lebsack</td>\n",
       "      <td>Karianne</td>\n",
       "      <td>Julianne.OConner@kory.org</td>\n",
       "      <td>493-170-9623 x156</td>\n",
       "      <td>kale.biz</td>\n",
       "      <td>{'name': 'Robel-Corkery', 'catchPhrase': 'Mult...</td>\n",
       "      <td>Hoeger Mall Apt. 692\\n53919-4257 South Elvis</td>\n",
       "    </tr>\n",
       "    <tr>\n",
       "      <th>4</th>\n",
       "      <td>5</td>\n",
       "      <td>Chelsey Dietrich</td>\n",
       "      <td>Kamren</td>\n",
       "      <td>Lucio_Hettinger@annie.ca</td>\n",
       "      <td>(254)954-1289</td>\n",
       "      <td>demarco.info</td>\n",
       "      <td>{'name': 'Keebler LLC', 'catchPhrase': 'User-c...</td>\n",
       "      <td>Skiles Walks Suite 351\\n33263 Roscoeview</td>\n",
       "    </tr>\n",
       "  </tbody>\n",
       "</table>\n",
       "</div>"
      ],
      "text/plain": [
       "   id              name   username                      email  \\\n",
       "0   1     Leanne Graham       Bret          Sincere@april.biz   \n",
       "1   2      Ervin Howell  Antonette          Shanna@melissa.tv   \n",
       "2   3  Clementine Bauch   Samantha         Nathan@yesenia.net   \n",
       "3   4  Patricia Lebsack   Karianne  Julianne.OConner@kory.org   \n",
       "4   5  Chelsey Dietrich     Kamren   Lucio_Hettinger@annie.ca   \n",
       "\n",
       "                   phone        website  \\\n",
       "0  1-770-736-8031 x56442  hildegard.org   \n",
       "1    010-692-6593 x09125  anastasia.net   \n",
       "2         1-463-123-4447    ramiro.info   \n",
       "3      493-170-9623 x156       kale.biz   \n",
       "4          (254)954-1289   demarco.info   \n",
       "\n",
       "                                             company  \\\n",
       "0  {'name': 'Romaguera-Crona', 'catchPhrase': 'Mu...   \n",
       "1  {'name': 'Deckow-Crist', 'catchPhrase': 'Proac...   \n",
       "2  {'name': 'Romaguera-Jacobson', 'catchPhrase': ...   \n",
       "3  {'name': 'Robel-Corkery', 'catchPhrase': 'Mult...   \n",
       "4  {'name': 'Keebler LLC', 'catchPhrase': 'User-c...   \n",
       "\n",
       "                                   formatted_address  \n",
       "0       Kulas Light Apt. 556\\n92998-3874 Gwenborough  \n",
       "1    Victor Plains Suite 879\\n90566-7771 Wisokyburgh  \n",
       "2  Douglas Extension Suite 847\\n59590-4157 McKenz...  \n",
       "3       Hoeger Mall Apt. 692\\n53919-4257 South Elvis  \n",
       "4           Skiles Walks Suite 351\\n33263 Roscoeview  "
      ]
     },
     "execution_count": 25,
     "metadata": {},
     "output_type": "execute_result"
    }
   ],
   "source": [
    "df.head()"
   ]
  },
  {
   "cell_type": "markdown",
   "id": "31328927",
   "metadata": {},
   "source": [
    "**Steg 7: Exportera som CSV**"
   ]
  },
  {
   "cell_type": "code",
   "execution_count": 26,
   "id": "5182c9b8",
   "metadata": {},
   "outputs": [],
   "source": [
    "df.to_csv(\"users.csv\", index=False)"
   ]
  },
  {
   "cell_type": "markdown",
   "id": "b45c61ef",
   "metadata": {},
   "source": [
    "**Steg 8: Samma allt igen men posts**"
   ]
  },
  {
   "cell_type": "code",
   "execution_count": 31,
   "id": "cf8d45f2",
   "metadata": {},
   "outputs": [],
   "source": [
    "response = requests.get(POSTS_URL)\n",
    "data = response.json()\n",
    "df_posts = pd.DataFrame(data)\n",
    "df_posts.to_csv(\"posts.csv\", index=False)"
   ]
  },
  {
   "cell_type": "code",
   "execution_count": 30,
   "id": "4d02fa63",
   "metadata": {},
   "outputs": [
    {
     "data": {
      "text/html": [
       "<div>\n",
       "<style scoped>\n",
       "    .dataframe tbody tr th:only-of-type {\n",
       "        vertical-align: middle;\n",
       "    }\n",
       "\n",
       "    .dataframe tbody tr th {\n",
       "        vertical-align: top;\n",
       "    }\n",
       "\n",
       "    .dataframe thead th {\n",
       "        text-align: right;\n",
       "    }\n",
       "</style>\n",
       "<table border=\"1\" class=\"dataframe\">\n",
       "  <thead>\n",
       "    <tr style=\"text-align: right;\">\n",
       "      <th></th>\n",
       "      <th>userId</th>\n",
       "      <th>id</th>\n",
       "      <th>title</th>\n",
       "      <th>body</th>\n",
       "    </tr>\n",
       "  </thead>\n",
       "  <tbody>\n",
       "    <tr>\n",
       "      <th>0</th>\n",
       "      <td>1</td>\n",
       "      <td>1</td>\n",
       "      <td>sunt aut facere repellat provident occaecati e...</td>\n",
       "      <td>quia et suscipit\\nsuscipit recusandae consequu...</td>\n",
       "    </tr>\n",
       "    <tr>\n",
       "      <th>1</th>\n",
       "      <td>1</td>\n",
       "      <td>2</td>\n",
       "      <td>qui est esse</td>\n",
       "      <td>est rerum tempore vitae\\nsequi sint nihil repr...</td>\n",
       "    </tr>\n",
       "    <tr>\n",
       "      <th>2</th>\n",
       "      <td>1</td>\n",
       "      <td>3</td>\n",
       "      <td>ea molestias quasi exercitationem repellat qui...</td>\n",
       "      <td>et iusto sed quo iure\\nvoluptatem occaecati om...</td>\n",
       "    </tr>\n",
       "    <tr>\n",
       "      <th>3</th>\n",
       "      <td>1</td>\n",
       "      <td>4</td>\n",
       "      <td>eum et est occaecati</td>\n",
       "      <td>ullam et saepe reiciendis voluptatem adipisci\\...</td>\n",
       "    </tr>\n",
       "    <tr>\n",
       "      <th>4</th>\n",
       "      <td>1</td>\n",
       "      <td>5</td>\n",
       "      <td>nesciunt quas odio</td>\n",
       "      <td>repudiandae veniam quaerat sunt sed\\nalias aut...</td>\n",
       "    </tr>\n",
       "  </tbody>\n",
       "</table>\n",
       "</div>"
      ],
      "text/plain": [
       "   userId  id                                              title  \\\n",
       "0       1   1  sunt aut facere repellat provident occaecati e...   \n",
       "1       1   2                                       qui est esse   \n",
       "2       1   3  ea molestias quasi exercitationem repellat qui...   \n",
       "3       1   4                               eum et est occaecati   \n",
       "4       1   5                                 nesciunt quas odio   \n",
       "\n",
       "                                                body  \n",
       "0  quia et suscipit\\nsuscipit recusandae consequu...  \n",
       "1  est rerum tempore vitae\\nsequi sint nihil repr...  \n",
       "2  et iusto sed quo iure\\nvoluptatem occaecati om...  \n",
       "3  ullam et saepe reiciendis voluptatem adipisci\\...  \n",
       "4  repudiandae veniam quaerat sunt sed\\nalias aut...  "
      ]
     },
     "execution_count": 30,
     "metadata": {},
     "output_type": "execute_result"
    }
   ],
   "source": [
    "df_posts.head()"
   ]
  }
 ],
 "metadata": {
  "kernelspec": {
   "display_name": "Python 3 (ipykernel)",
   "language": "python",
   "name": "python3"
  },
  "language_info": {
   "codemirror_mode": {
    "name": "ipython",
    "version": 3
   },
   "file_extension": ".py",
   "mimetype": "text/x-python",
   "name": "python",
   "nbconvert_exporter": "python",
   "pygments_lexer": "ipython3",
   "version": "3.9.12"
  }
 },
 "nbformat": 4,
 "nbformat_minor": 5
}
