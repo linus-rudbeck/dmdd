{
 "cells": [
  {
   "cell_type": "markdown",
   "id": "c8ea1e08",
   "metadata": {},
   "source": [
    "# Demo: DataFrame"
   ]
  },
  {
   "cell_type": "code",
   "execution_count": null,
   "id": "1780ff5b",
   "metadata": {},
   "outputs": [],
   "source": [
    "import pandas as pd"
   ]
  },
  {
   "cell_type": "markdown",
   "id": "dbc16ec2",
   "metadata": {},
   "source": [
    "## Skapa DataFrames"
   ]
  },
  {
   "cell_type": "code",
   "execution_count": null,
   "id": "8568fb60",
   "metadata": {},
   "outputs": [],
   "source": [
    "# Hämta från Excel-dokument\n",
    "xldf = pd.read_excel(\"data.xlsx\")\n",
    "\n",
    "# Skapa en DataFrame\n",
    "df = pd.DataFrame()\n",
    "df.head()"
   ]
  },
  {
   "cell_type": "markdown",
   "id": "fe53f39f",
   "metadata": {},
   "source": [
    "## Rensa data"
   ]
  },
  {
   "cell_type": "code",
   "execution_count": null,
   "id": "c218e895",
   "metadata": {},
   "outputs": [],
   "source": [
    "# Ta bort tomma rader\n",
    "df.dropna()\n",
    "df[\"kolumn\"].dropna()\n",
    "\n",
    "# Ta bort överflödiga kolumner\n",
    "df.drop([\"kolumn 1\", \"kolumn 2\"], axis=1)"
   ]
  },
  {
   "cell_type": "markdown",
   "id": "5f408f87",
   "metadata": {},
   "source": [
    "## Slå ihop DataFrames\n",
    "\n",
    "### På gemensam kolumn"
   ]
  },
  {
   "cell_type": "code",
   "execution_count": null,
   "id": "de65abcb",
   "metadata": {},
   "outputs": [],
   "source": [
    "# df1 & df2 är varsin DataFrame\n",
    "\n",
    "# Slå ihop DataFrames på gemensam kolumn\n",
    "df_merged = pd.merge(df1, df2, on=\"gemensam kolumn\")"
   ]
  },
  {
   "cell_type": "markdown",
   "id": "3a11d78d",
   "metadata": {},
   "source": [
    "### På index"
   ]
  },
  {
   "cell_type": "code",
   "execution_count": null,
   "id": "ecc83245",
   "metadata": {},
   "outputs": [],
   "source": [
    "# df1 => kunder (1-100)\n",
    "# df2 => mailadresser (1-100)\n",
    "# kund1 får mail1, kund2 får mail2 ...\n",
    "\n",
    "# Slå ihop på index\n",
    "df_merged = pd.merge(df1, df2, left_index=True, right_index=True)"
   ]
  },
  {
   "cell_type": "markdown",
   "id": "88cd27d5",
   "metadata": {},
   "source": [
    "### Rad efter rad"
   ]
  },
  {
   "cell_type": "code",
   "execution_count": null,
   "id": "61052a7f",
   "metadata": {},
   "outputs": [],
   "source": [
    "# df1 är 100 kunder från system 1\n",
    "# df2 är 150 andra kunder från system 2\n",
    "# df1 och df2 har samma kolumner\n",
    "\n",
    "df_merged = pd.concat([df1, df2])"
   ]
  }
 ],
 "metadata": {
  "kernelspec": {
   "display_name": "Python 3 (ipykernel)",
   "language": "python",
   "name": "python3"
  },
  "language_info": {
   "codemirror_mode": {
    "name": "ipython",
    "version": 3
   },
   "file_extension": ".py",
   "mimetype": "text/x-python",
   "name": "python",
   "nbconvert_exporter": "python",
   "pygments_lexer": "ipython3",
   "version": "3.9.12"
  }
 },
 "nbformat": 4,
 "nbformat_minor": 5
}
