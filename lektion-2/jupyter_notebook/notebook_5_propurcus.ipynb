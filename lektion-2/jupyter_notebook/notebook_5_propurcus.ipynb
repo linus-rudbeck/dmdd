{
 "cells": [
  {
   "cell_type": "markdown",
   "id": "2bf5a7a2",
   "metadata": {},
   "source": [
    "# Produkter, Kunder och köp\n",
    "\n",
    "Lite beskrivning kan vi ha här"
   ]
  },
  {
   "cell_type": "code",
   "execution_count": null,
   "id": "3122a030",
   "metadata": {},
   "outputs": [],
   "source": [
    "import pandas as pd\n",
    "\n",
    "df_customers = pd.read_csv('customer_data.csv')\n",
    "df_customers.head()"
   ]
  },
  {
   "cell_type": "code",
   "execution_count": null,
   "id": "ab9a0f13",
   "metadata": {},
   "outputs": [],
   "source": [
    "df_products = pd.read_csv('product_data.csv')\n",
    "df_products.head()"
   ]
  },
  {
   "cell_type": "code",
   "execution_count": null,
   "id": "8e80d9a8",
   "metadata": {},
   "outputs": [],
   "source": [
    "df_purchases = pd.read_csv('purchase_data.csv')\n",
    "df_purchases.head()"
   ]
  },
  {
   "cell_type": "code",
   "execution_count": null,
   "id": "f6b6ba06",
   "metadata": {},
   "outputs": [],
   "source": [
    "# Antal kunder ... ?\n",
    "df_customers.shape[0]"
   ]
  },
  {
   "cell_type": "code",
   "execution_count": null,
   "id": "d188a244",
   "metadata": {},
   "outputs": [],
   "source": [
    "# Antal produkter ... ?\n",
    "df_products.shape[0]"
   ]
  },
  {
   "cell_type": "code",
   "execution_count": null,
   "id": "c3f74df2",
   "metadata": {},
   "outputs": [],
   "source": [
    "# Antal köp ... ?\n",
    "df_purchases.shape[0]"
   ]
  },
  {
   "cell_type": "code",
   "execution_count": null,
   "id": "063e70f8",
   "metadata": {},
   "outputs": [],
   "source": [
    "# Produkter som sålt mest ... ?\n",
    "table = df_purchases[\"product_id\"].value_counts()\n",
    "table = table.rename_axis(\"product_id\")\n",
    "table = table.reset_index(name=\"purchase count\")\n",
    "table.head(3)"
   ]
  },
  {
   "cell_type": "code",
   "execution_count": null,
   "id": "648b7812",
   "metadata": {},
   "outputs": [],
   "source": [
    "# Kunder som köpt mest ... ?\n",
    "table = df_purchases[\"customer_id\"].value_counts()\n",
    "table = table.rename_axis(\"customer_id\")\n",
    "table = table.reset_index(name=\"purchase count\")\n",
    "table.head(3)"
   ]
  },
  {
   "cell_type": "code",
   "execution_count": null,
   "id": "8e13bd14",
   "metadata": {},
   "outputs": [],
   "source": [
    "combined_df = pd.merge(df_purchases, df_customers, on=\"customer_id\")\n",
    "combined_df.head()"
   ]
  },
  {
   "cell_type": "code",
   "execution_count": null,
   "id": "a3e790d8",
   "metadata": {},
   "outputs": [],
   "source": [
    "combined_df = pd.merge(df_purchases, df_products, on=\"product_id\")\n",
    "combined_df.head()"
   ]
  }
 ],
 "metadata": {
  "kernelspec": {
   "display_name": "Python 3 (ipykernel)",
   "language": "python",
   "name": "python3"
  },
  "language_info": {
   "codemirror_mode": {
    "name": "ipython",
    "version": 3
   },
   "file_extension": ".py",
   "mimetype": "text/x-python",
   "name": "python",
   "nbconvert_exporter": "python",
   "pygments_lexer": "ipython3",
   "version": "3.9.12"
  }
 },
 "nbformat": 4,
 "nbformat_minor": 5
}
