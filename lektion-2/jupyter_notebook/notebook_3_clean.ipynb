{
 "cells": [
  {
   "cell_type": "markdown",
   "id": "18d5cfd6",
   "metadata": {},
   "source": [
    "# Rensa / Städa data\n",
    "\n",
    "nån beskrivning om vi vill det..."
   ]
  },
  {
   "cell_type": "code",
   "execution_count": 1,
   "id": "7bff1bfd",
   "metadata": {},
   "outputs": [
    {
     "data": {
      "text/html": [
       "<div>\n",
       "<style scoped>\n",
       "    .dataframe tbody tr th:only-of-type {\n",
       "        vertical-align: middle;\n",
       "    }\n",
       "\n",
       "    .dataframe tbody tr th {\n",
       "        vertical-align: top;\n",
       "    }\n",
       "\n",
       "    .dataframe thead th {\n",
       "        text-align: right;\n",
       "    }\n",
       "</style>\n",
       "<table border=\"1\" class=\"dataframe\">\n",
       "  <thead>\n",
       "    <tr style=\"text-align: right;\">\n",
       "      <th></th>\n",
       "      <th>name</th>\n",
       "      <th>age</th>\n",
       "      <th>email</th>\n",
       "      <th>phone</th>\n",
       "      <th>purchase_frequency</th>\n",
       "    </tr>\n",
       "  </thead>\n",
       "  <tbody>\n",
       "    <tr>\n",
       "      <th>0</th>\n",
       "      <td>Jenny Jönes</td>\n",
       "      <td>invalid_age</td>\n",
       "      <td>jenny.jones@distansakademin.se</td>\n",
       "      <td>0748-713657</td>\n",
       "      <td>high</td>\n",
       "    </tr>\n",
       "    <tr>\n",
       "      <th>1</th>\n",
       "      <td>Jack Jöhanssön</td>\n",
       "      <td>23</td>\n",
       "      <td>invalid_mail</td>\n",
       "      <td>0752-170570</td>\n",
       "      <td>medium</td>\n",
       "    </tr>\n",
       "    <tr>\n",
       "      <th>2</th>\n",
       "      <td>Jade Jöhanssön</td>\n",
       "      <td>25</td>\n",
       "      <td>jade.johansson@distansakademin.se</td>\n",
       "      <td>0787-680832</td>\n",
       "      <td>high</td>\n",
       "    </tr>\n",
       "    <tr>\n",
       "      <th>3</th>\n",
       "      <td>Jim Jöhnsön</td>\n",
       "      <td>24</td>\n",
       "      <td>jim.johnson@distansakademin.se</td>\n",
       "      <td>0755-106625</td>\n",
       "      <td>low</td>\n",
       "    </tr>\n",
       "    <tr>\n",
       "      <th>4</th>\n",
       "      <td>Jill Smith</td>\n",
       "      <td>62</td>\n",
       "      <td>jill.smith@distansakademin.se</td>\n",
       "      <td>0799-913994</td>\n",
       "      <td>low</td>\n",
       "    </tr>\n",
       "  </tbody>\n",
       "</table>\n",
       "</div>"
      ],
      "text/plain": [
       "             name          age                              email  \\\n",
       "0     Jenny Jönes  invalid_age     jenny.jones@distansakademin.se   \n",
       "1  Jack Jöhanssön           23                       invalid_mail   \n",
       "2  Jade Jöhanssön           25  jade.johansson@distansakademin.se   \n",
       "3     Jim Jöhnsön           24     jim.johnson@distansakademin.se   \n",
       "4      Jill Smith           62      jill.smith@distansakademin.se   \n",
       "\n",
       "         phone purchase_frequency  \n",
       "0  0748-713657               high  \n",
       "1  0752-170570             medium  \n",
       "2  0787-680832               high  \n",
       "3  0755-106625                low  \n",
       "4  0799-913994                low  "
      ]
     },
     "execution_count": 1,
     "metadata": {},
     "output_type": "execute_result"
    }
   ],
   "source": [
    "import pandas as pd\n",
    "\n",
    "df = pd.read_csv('customer_data.csv')\n",
    "\n",
    "df.head()"
   ]
  },
  {
   "cell_type": "code",
   "execution_count": 2,
   "id": "bf6552c6",
   "metadata": {},
   "outputs": [
    {
     "name": "stdout",
     "output_type": "stream",
     "text": [
      "Invalid emails: 1218\n",
      "Invalid ages: 1678\n"
     ]
    }
   ],
   "source": [
    "def print_invalid_count(dataframe):\n",
    "    invalid_email_count = dataframe[dataframe[\"email\"] == \"invalid_mail\"].shape[0]\n",
    "    invalid_age_count = dataframe[dataframe[\"age\"] == \"invalid_age\"].shape[0]\n",
    "\n",
    "    print(f\"Invalid emails: {invalid_email_count}\")\n",
    "    print(f\"Invalid ages: {invalid_age_count}\")\n",
    "    \n",
    "print_invalid_count(df)"
   ]
  },
  {
   "cell_type": "code",
   "execution_count": 3,
   "id": "4ce97d07",
   "metadata": {},
   "outputs": [
    {
     "data": {
      "text/plain": [
       "10000"
      ]
     },
     "execution_count": 3,
     "metadata": {},
     "output_type": "execute_result"
    }
   ],
   "source": [
    "df.shape[0]"
   ]
  },
  {
   "cell_type": "code",
   "execution_count": 5,
   "id": "21d2c53f",
   "metadata": {},
   "outputs": [
    {
     "name": "stdout",
     "output_type": "stream",
     "text": [
      "Invalid emails: 1218\n",
      "Invalid ages: 1678\n"
     ]
    }
   ],
   "source": [
    "print_invalid_count(df)"
   ]
  },
  {
   "cell_type": "code",
   "execution_count": 6,
   "id": "f759f334",
   "metadata": {},
   "outputs": [
    {
     "data": {
      "text/plain": [
       "8322"
      ]
     },
     "execution_count": 6,
     "metadata": {},
     "output_type": "execute_result"
    }
   ],
   "source": [
    "df[df[\"age\"] != \"invalid_age\"].shape[0]"
   ]
  },
  {
   "cell_type": "code",
   "execution_count": 7,
   "id": "4c2c07c2",
   "metadata": {},
   "outputs": [
    {
     "name": "stdout",
     "output_type": "stream",
     "text": [
      "Invalid emails: 1008\n",
      "Invalid ages: 0\n"
     ]
    }
   ],
   "source": [
    "df = df[df[\"age\"] != \"invalid_age\"]\n",
    "print_invalid_count(df)"
   ]
  },
  {
   "cell_type": "code",
   "execution_count": 8,
   "id": "a2b104a4",
   "metadata": {},
   "outputs": [
    {
     "name": "stdout",
     "output_type": "stream",
     "text": [
      "Invalid emails: 0\n",
      "Invalid ages: 0\n"
     ]
    }
   ],
   "source": [
    "df = df[df[\"email\"] != \"invalid_mail\"]\n",
    "print_invalid_count(df)"
   ]
  },
  {
   "cell_type": "code",
   "execution_count": 9,
   "id": "b296657e",
   "metadata": {},
   "outputs": [
    {
     "data": {
      "text/plain": [
       "7314"
      ]
     },
     "execution_count": 9,
     "metadata": {},
     "output_type": "execute_result"
    }
   ],
   "source": [
    "df.shape[0]"
   ]
  },
  {
   "cell_type": "code",
   "execution_count": 10,
   "id": "591d2038",
   "metadata": {},
   "outputs": [],
   "source": [
    "df.to_csv(\"customer_data_clean.csv\", index=False)"
   ]
  },
  {
   "cell_type": "code",
   "execution_count": 11,
   "id": "f07ea5bf",
   "metadata": {},
   "outputs": [
    {
     "data": {
      "text/html": [
       "<div>\n",
       "<style scoped>\n",
       "    .dataframe tbody tr th:only-of-type {\n",
       "        vertical-align: middle;\n",
       "    }\n",
       "\n",
       "    .dataframe tbody tr th {\n",
       "        vertical-align: top;\n",
       "    }\n",
       "\n",
       "    .dataframe thead th {\n",
       "        text-align: right;\n",
       "    }\n",
       "</style>\n",
       "<table border=\"1\" class=\"dataframe\">\n",
       "  <thead>\n",
       "    <tr style=\"text-align: right;\">\n",
       "      <th></th>\n",
       "      <th>name</th>\n",
       "      <th>age</th>\n",
       "      <th>email</th>\n",
       "      <th>phone</th>\n",
       "      <th>purchase_frequency</th>\n",
       "    </tr>\n",
       "  </thead>\n",
       "  <tbody>\n",
       "    <tr>\n",
       "      <th>0</th>\n",
       "      <td>Jade Jöhanssön</td>\n",
       "      <td>25</td>\n",
       "      <td>jade.johansson@distansakademin.se</td>\n",
       "      <td>0787-680832</td>\n",
       "      <td>high</td>\n",
       "    </tr>\n",
       "    <tr>\n",
       "      <th>1</th>\n",
       "      <td>Jim Jöhnsön</td>\n",
       "      <td>24</td>\n",
       "      <td>jim.johnson@distansakademin.se</td>\n",
       "      <td>0755-106625</td>\n",
       "      <td>low</td>\n",
       "    </tr>\n",
       "    <tr>\n",
       "      <th>2</th>\n",
       "      <td>Jill Smith</td>\n",
       "      <td>62</td>\n",
       "      <td>jill.smith@distansakademin.se</td>\n",
       "      <td>0799-913994</td>\n",
       "      <td>low</td>\n",
       "    </tr>\n",
       "    <tr>\n",
       "      <th>3</th>\n",
       "      <td>Jesse Jöhanssön</td>\n",
       "      <td>50</td>\n",
       "      <td>jesse.johansson@distansakademin.se</td>\n",
       "      <td>0722-369001</td>\n",
       "      <td>medium</td>\n",
       "    </tr>\n",
       "    <tr>\n",
       "      <th>4</th>\n",
       "      <td>Jenny Jenkins</td>\n",
       "      <td>40</td>\n",
       "      <td>jenny.jenkins@distansakademin.se</td>\n",
       "      <td>0751-447976</td>\n",
       "      <td>low</td>\n",
       "    </tr>\n",
       "  </tbody>\n",
       "</table>\n",
       "</div>"
      ],
      "text/plain": [
       "              name  age                               email        phone  \\\n",
       "0   Jade Jöhanssön   25   jade.johansson@distansakademin.se  0787-680832   \n",
       "1      Jim Jöhnsön   24      jim.johnson@distansakademin.se  0755-106625   \n",
       "2       Jill Smith   62       jill.smith@distansakademin.se  0799-913994   \n",
       "3  Jesse Jöhanssön   50  jesse.johansson@distansakademin.se  0722-369001   \n",
       "4    Jenny Jenkins   40    jenny.jenkins@distansakademin.se  0751-447976   \n",
       "\n",
       "  purchase_frequency  \n",
       "0               high  \n",
       "1                low  \n",
       "2                low  \n",
       "3             medium  \n",
       "4                low  "
      ]
     },
     "execution_count": 11,
     "metadata": {},
     "output_type": "execute_result"
    }
   ],
   "source": [
    "df_clean = pd.read_csv(\"customer_data_clean.csv\")\n",
    "\n",
    "df_clean.head()"
   ]
  },
  {
   "cell_type": "code",
   "execution_count": 12,
   "id": "e14901b8",
   "metadata": {},
   "outputs": [
    {
     "data": {
      "text/plain": [
       "7314"
      ]
     },
     "execution_count": 12,
     "metadata": {},
     "output_type": "execute_result"
    }
   ],
   "source": [
    "df_clean.shape[0]"
   ]
  },
  {
   "cell_type": "code",
   "execution_count": 14,
   "id": "26231e22",
   "metadata": {},
   "outputs": [
    {
     "name": "stdout",
     "output_type": "stream",
     "text": [
      "Invalid emails: 0\n",
      "Invalid ages: 0\n"
     ]
    }
   ],
   "source": [
    "print_invalid_count(df_clean)"
   ]
  },
  {
   "cell_type": "code",
   "execution_count": 15,
   "id": "beaff1d9",
   "metadata": {},
   "outputs": [
    {
     "name": "stdout",
     "output_type": "stream",
     "text": [
      "<class 'pandas.core.frame.DataFrame'>\n",
      "Int64Index: 7314 entries, 2 to 9998\n",
      "Data columns (total 5 columns):\n",
      " #   Column              Non-Null Count  Dtype \n",
      "---  ------              --------------  ----- \n",
      " 0   name                7314 non-null   object\n",
      " 1   age                 7314 non-null   object\n",
      " 2   email               7314 non-null   object\n",
      " 3   phone               7314 non-null   object\n",
      " 4   purchase_frequency  7314 non-null   object\n",
      "dtypes: object(5)\n",
      "memory usage: 342.8+ KB\n"
     ]
    }
   ],
   "source": [
    "df.info()"
   ]
  },
  {
   "cell_type": "code",
   "execution_count": 16,
   "id": "387ff8e8",
   "metadata": {},
   "outputs": [
    {
     "name": "stdout",
     "output_type": "stream",
     "text": [
      "<class 'pandas.core.frame.DataFrame'>\n",
      "RangeIndex: 7314 entries, 0 to 7313\n",
      "Data columns (total 5 columns):\n",
      " #   Column              Non-Null Count  Dtype \n",
      "---  ------              --------------  ----- \n",
      " 0   name                7314 non-null   object\n",
      " 1   age                 7314 non-null   int64 \n",
      " 2   email               7314 non-null   object\n",
      " 3   phone               7314 non-null   object\n",
      " 4   purchase_frequency  7314 non-null   object\n",
      "dtypes: int64(1), object(4)\n",
      "memory usage: 285.8+ KB\n"
     ]
    }
   ],
   "source": [
    "df_clean.info()"
   ]
  },
  {
   "cell_type": "code",
   "execution_count": 18,
   "id": "bb838f36",
   "metadata": {},
   "outputs": [],
   "source": [
    "# int = Integer (heltal)\n",
    "# 64 = 64 bitar ()\n",
    "df[\"age\"] = df[\"age\"].astype(\"int16\")"
   ]
  },
  {
   "cell_type": "code",
   "execution_count": null,
   "id": "e18e3fe9",
   "metadata": {},
   "outputs": [],
   "source": []
  }
 ],
 "metadata": {
  "kernelspec": {
   "display_name": "Python 3 (ipykernel)",
   "language": "python",
   "name": "python3"
  },
  "language_info": {
   "codemirror_mode": {
    "name": "ipython",
    "version": 3
   },
   "file_extension": ".py",
   "mimetype": "text/x-python",
   "name": "python",
   "nbconvert_exporter": "python",
   "pygments_lexer": "ipython3",
   "version": "3.9.12"
  }
 },
 "nbformat": 4,
 "nbformat_minor": 5
}
