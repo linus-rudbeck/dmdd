{
 "cells": [
  {
   "cell_type": "markdown",
   "id": "7632370a",
   "metadata": {},
   "source": [
    "# Visualisera data\n",
    "\n",
    "En liten beskrivning o.s.v."
   ]
  },
  {
   "cell_type": "code",
   "execution_count": 7,
   "id": "b31eee23",
   "metadata": {},
   "outputs": [
    {
     "name": "stdout",
     "output_type": "stream",
     "text": [
      "10000\n"
     ]
    },
    {
     "data": {
      "text/html": [
       "<div>\n",
       "<style scoped>\n",
       "    .dataframe tbody tr th:only-of-type {\n",
       "        vertical-align: middle;\n",
       "    }\n",
       "\n",
       "    .dataframe tbody tr th {\n",
       "        vertical-align: top;\n",
       "    }\n",
       "\n",
       "    .dataframe thead th {\n",
       "        text-align: right;\n",
       "    }\n",
       "</style>\n",
       "<table border=\"1\" class=\"dataframe\">\n",
       "  <thead>\n",
       "    <tr style=\"text-align: right;\">\n",
       "      <th></th>\n",
       "      <th>name</th>\n",
       "      <th>age</th>\n",
       "      <th>email</th>\n",
       "      <th>phone</th>\n",
       "      <th>purchase_frequency</th>\n",
       "    </tr>\n",
       "  </thead>\n",
       "  <tbody>\n",
       "    <tr>\n",
       "      <th>0</th>\n",
       "      <td>Jenny Jönes</td>\n",
       "      <td>invalid_age</td>\n",
       "      <td>jenny.jones@distansakademin.se</td>\n",
       "      <td>0748-713657</td>\n",
       "      <td>high</td>\n",
       "    </tr>\n",
       "    <tr>\n",
       "      <th>1</th>\n",
       "      <td>Jack Jöhanssön</td>\n",
       "      <td>23</td>\n",
       "      <td>invalid_mail</td>\n",
       "      <td>0752-170570</td>\n",
       "      <td>medium</td>\n",
       "    </tr>\n",
       "    <tr>\n",
       "      <th>2</th>\n",
       "      <td>Jade Jöhanssön</td>\n",
       "      <td>25</td>\n",
       "      <td>jade.johansson@distansakademin.se</td>\n",
       "      <td>0787-680832</td>\n",
       "      <td>high</td>\n",
       "    </tr>\n",
       "    <tr>\n",
       "      <th>3</th>\n",
       "      <td>Jim Jöhnsön</td>\n",
       "      <td>24</td>\n",
       "      <td>jim.johnson@distansakademin.se</td>\n",
       "      <td>0755-106625</td>\n",
       "      <td>low</td>\n",
       "    </tr>\n",
       "    <tr>\n",
       "      <th>4</th>\n",
       "      <td>Jill Smith</td>\n",
       "      <td>62</td>\n",
       "      <td>jill.smith@distansakademin.se</td>\n",
       "      <td>0799-913994</td>\n",
       "      <td>low</td>\n",
       "    </tr>\n",
       "  </tbody>\n",
       "</table>\n",
       "</div>"
      ],
      "text/plain": [
       "             name          age                              email  \\\n",
       "0     Jenny Jönes  invalid_age     jenny.jones@distansakademin.se   \n",
       "1  Jack Jöhanssön           23                       invalid_mail   \n",
       "2  Jade Jöhanssön           25  jade.johansson@distansakademin.se   \n",
       "3     Jim Jöhnsön           24     jim.johnson@distansakademin.se   \n",
       "4      Jill Smith           62      jill.smith@distansakademin.se   \n",
       "\n",
       "         phone purchase_frequency  \n",
       "0  0748-713657               high  \n",
       "1  0752-170570             medium  \n",
       "2  0787-680832               high  \n",
       "3  0755-106625                low  \n",
       "4  0799-913994                low  "
      ]
     },
     "execution_count": 7,
     "metadata": {},
     "output_type": "execute_result"
    }
   ],
   "source": [
    "import pandas as pd\n",
    "\n",
    "df = pd.read_csv(\"customer_data.csv\")\n",
    "df_clean = pd.read_csv(\"customer_data_clean.csv\")\n",
    "\n",
    "print(df.shape[0])\n",
    "df.head()"
   ]
  },
  {
   "cell_type": "code",
   "execution_count": 9,
   "id": "a908f828",
   "metadata": {},
   "outputs": [
    {
     "name": "stdout",
     "output_type": "stream",
     "text": [
      "7314\n"
     ]
    },
    {
     "data": {
      "text/html": [
       "<div>\n",
       "<style scoped>\n",
       "    .dataframe tbody tr th:only-of-type {\n",
       "        vertical-align: middle;\n",
       "    }\n",
       "\n",
       "    .dataframe tbody tr th {\n",
       "        vertical-align: top;\n",
       "    }\n",
       "\n",
       "    .dataframe thead th {\n",
       "        text-align: right;\n",
       "    }\n",
       "</style>\n",
       "<table border=\"1\" class=\"dataframe\">\n",
       "  <thead>\n",
       "    <tr style=\"text-align: right;\">\n",
       "      <th></th>\n",
       "      <th>name</th>\n",
       "      <th>age</th>\n",
       "      <th>email</th>\n",
       "      <th>phone</th>\n",
       "      <th>purchase_frequency</th>\n",
       "    </tr>\n",
       "  </thead>\n",
       "  <tbody>\n",
       "    <tr>\n",
       "      <th>0</th>\n",
       "      <td>Jade Jöhanssön</td>\n",
       "      <td>25</td>\n",
       "      <td>jade.johansson@distansakademin.se</td>\n",
       "      <td>0787-680832</td>\n",
       "      <td>high</td>\n",
       "    </tr>\n",
       "    <tr>\n",
       "      <th>1</th>\n",
       "      <td>Jim Jöhnsön</td>\n",
       "      <td>24</td>\n",
       "      <td>jim.johnson@distansakademin.se</td>\n",
       "      <td>0755-106625</td>\n",
       "      <td>low</td>\n",
       "    </tr>\n",
       "    <tr>\n",
       "      <th>2</th>\n",
       "      <td>Jill Smith</td>\n",
       "      <td>62</td>\n",
       "      <td>jill.smith@distansakademin.se</td>\n",
       "      <td>0799-913994</td>\n",
       "      <td>low</td>\n",
       "    </tr>\n",
       "    <tr>\n",
       "      <th>3</th>\n",
       "      <td>Jesse Jöhanssön</td>\n",
       "      <td>50</td>\n",
       "      <td>jesse.johansson@distansakademin.se</td>\n",
       "      <td>0722-369001</td>\n",
       "      <td>medium</td>\n",
       "    </tr>\n",
       "    <tr>\n",
       "      <th>4</th>\n",
       "      <td>Jenny Jenkins</td>\n",
       "      <td>40</td>\n",
       "      <td>jenny.jenkins@distansakademin.se</td>\n",
       "      <td>0751-447976</td>\n",
       "      <td>low</td>\n",
       "    </tr>\n",
       "    <tr>\n",
       "      <th>5</th>\n",
       "      <td>Jenny Jöhnsön</td>\n",
       "      <td>64</td>\n",
       "      <td>jenny.johnson@distansakademin.se</td>\n",
       "      <td>0725-672576</td>\n",
       "      <td>medium</td>\n",
       "    </tr>\n",
       "    <tr>\n",
       "      <th>6</th>\n",
       "      <td>Jade Jöhnsön</td>\n",
       "      <td>24</td>\n",
       "      <td>jade.johnson@distansakademin.se</td>\n",
       "      <td>0792-841491</td>\n",
       "      <td>medium</td>\n",
       "    </tr>\n",
       "    <tr>\n",
       "      <th>7</th>\n",
       "      <td>Jade Jöhnsön</td>\n",
       "      <td>25</td>\n",
       "      <td>jade.johnson@distansakademin.se</td>\n",
       "      <td>0731-849531</td>\n",
       "      <td>medium</td>\n",
       "    </tr>\n",
       "    <tr>\n",
       "      <th>8</th>\n",
       "      <td>Jenny Smith</td>\n",
       "      <td>38</td>\n",
       "      <td>jenny.smith@distansakademin.se</td>\n",
       "      <td>0723-793690</td>\n",
       "      <td>low</td>\n",
       "    </tr>\n",
       "    <tr>\n",
       "      <th>9</th>\n",
       "      <td>Jim Jöhanssön</td>\n",
       "      <td>19</td>\n",
       "      <td>jim.johansson@distansakademin.se</td>\n",
       "      <td>0785-839191</td>\n",
       "      <td>medium</td>\n",
       "    </tr>\n",
       "  </tbody>\n",
       "</table>\n",
       "</div>"
      ],
      "text/plain": [
       "              name  age                               email        phone  \\\n",
       "0   Jade Jöhanssön   25   jade.johansson@distansakademin.se  0787-680832   \n",
       "1      Jim Jöhnsön   24      jim.johnson@distansakademin.se  0755-106625   \n",
       "2       Jill Smith   62       jill.smith@distansakademin.se  0799-913994   \n",
       "3  Jesse Jöhanssön   50  jesse.johansson@distansakademin.se  0722-369001   \n",
       "4    Jenny Jenkins   40    jenny.jenkins@distansakademin.se  0751-447976   \n",
       "5    Jenny Jöhnsön   64    jenny.johnson@distansakademin.se  0725-672576   \n",
       "6     Jade Jöhnsön   24     jade.johnson@distansakademin.se  0792-841491   \n",
       "7     Jade Jöhnsön   25     jade.johnson@distansakademin.se  0731-849531   \n",
       "8      Jenny Smith   38      jenny.smith@distansakademin.se  0723-793690   \n",
       "9    Jim Jöhanssön   19    jim.johansson@distansakademin.se  0785-839191   \n",
       "\n",
       "  purchase_frequency  \n",
       "0               high  \n",
       "1                low  \n",
       "2                low  \n",
       "3             medium  \n",
       "4                low  \n",
       "5             medium  \n",
       "6             medium  \n",
       "7             medium  \n",
       "8                low  \n",
       "9             medium  "
      ]
     },
     "execution_count": 9,
     "metadata": {},
     "output_type": "execute_result"
    }
   ],
   "source": [
    "print(df_clean.shape[0])\n",
    "df_clean.head(10)"
   ]
  },
  {
   "cell_type": "code",
   "execution_count": 13,
   "id": "477278cb",
   "metadata": {},
   "outputs": [
    {
     "data": {
      "text/plain": [
       "<AxesSubplot:ylabel='Frequency'>"
      ]
     },
     "execution_count": 13,
     "metadata": {},
     "output_type": "execute_result"
    },
    {
     "data": {
      "image/png": "[encoded data removed]",
      "text/plain": [
       "<Figure size 432x288 with 1 Axes>"
      ]
     },
     "metadata": {
      "needs_background": "light"
     },
     "output_type": "display_data"
    }
   ],
   "source": [
    "df_clean[\"age\"].plot(kind='hist')"
   ]
  },
  {
   "cell_type": "code",
   "execution_count": 14,
   "id": "1a23717a",
   "metadata": {},
   "outputs": [
    {
     "data": {
      "text/plain": [
       "<AxesSubplot:>"
      ]
     },
     "execution_count": 14,
     "metadata": {},
     "output_type": "execute_result"
    },
    {
     "data": {
      "image/png": "[encoded data removed]",
      "text/plain": [
       "<Figure size 432x288 with 1 Axes>"
      ]
     },
     "metadata": {
      "needs_background": "light"
     },
     "output_type": "display_data"
    }
   ],
   "source": [
    "df_clean[\"age\"].plot(kind='line')"
   ]
  },
  {
   "cell_type": "code",
   "execution_count": 16,
   "id": "541ac6ca",
   "metadata": {},
   "outputs": [
    {
     "data": {
      "text/plain": [
       "10000"
      ]
     },
     "execution_count": 16,
     "metadata": {},
     "output_type": "execute_result"
    }
   ],
   "source": [
    "total_customers = df[\"email\"].count()\n",
    "total_customers"
   ]
  },
  {
   "cell_type": "code",
   "execution_count": 18,
   "id": "c8af4c61",
   "metadata": {},
   "outputs": [
    {
     "data": {
      "text/plain": [
       "1218"
      ]
     },
     "execution_count": 18,
     "metadata": {},
     "output_type": "execute_result"
    }
   ],
   "source": [
    "invalid_email_count = df[\"email\"].str.contains(\"invalid_mail\").sum()\n",
    "invalid_email_count"
   ]
  },
  {
   "cell_type": "code",
   "execution_count": 19,
   "id": "205f3141",
   "metadata": {},
   "outputs": [
    {
     "data": {
      "text/html": [
       "<div>\n",
       "<style scoped>\n",
       "    .dataframe tbody tr th:only-of-type {\n",
       "        vertical-align: middle;\n",
       "    }\n",
       "\n",
       "    .dataframe tbody tr th {\n",
       "        vertical-align: top;\n",
       "    }\n",
       "\n",
       "    .dataframe thead th {\n",
       "        text-align: right;\n",
       "    }\n",
       "</style>\n",
       "<table border=\"1\" class=\"dataframe\">\n",
       "  <thead>\n",
       "    <tr style=\"text-align: right;\">\n",
       "      <th></th>\n",
       "      <th>email</th>\n",
       "    </tr>\n",
       "  </thead>\n",
       "  <tbody>\n",
       "    <tr>\n",
       "      <th>valid</th>\n",
       "      <td>8782</td>\n",
       "    </tr>\n",
       "    <tr>\n",
       "      <th>invalid</th>\n",
       "      <td>1218</td>\n",
       "    </tr>\n",
       "  </tbody>\n",
       "</table>\n",
       "</div>"
      ],
      "text/plain": [
       "         email\n",
       "valid     8782\n",
       "invalid   1218"
      ]
     },
     "execution_count": 19,
     "metadata": {},
     "output_type": "execute_result"
    }
   ],
   "source": [
    "valid_email_count = total_customers - invalid_email_count\n",
    "pie_df = pd.DataFrame({'email': [valid_email_count, invalid_email_count]}, \n",
    "                      index=['valid', 'invalid'])\n",
    "\n",
    "pie_df"
   ]
  },
  {
   "cell_type": "code",
   "execution_count": 23,
   "id": "6927a753",
   "metadata": {},
   "outputs": [
    {
     "data": {
      "text/plain": [
       "<AxesSubplot:ylabel='email'>"
      ]
     },
     "execution_count": 23,
     "metadata": {},
     "output_type": "execute_result"
    },
    {
     "data": {
      "image/png": "[encoded data removed]",
      "text/plain": [
       "<Figure size 360x360 with 1 Axes>"
      ]
     },
     "metadata": {},
     "output_type": "display_data"
    }
   ],
   "source": [
    "pie_df.plot.pie(y='email', figsize=(5, 5))"
   ]
  },
  {
   "cell_type": "code",
   "execution_count": 28,
   "id": "fd84344c",
   "metadata": {},
   "outputs": [
    {
     "data": {
      "text/plain": [
       "[3279, 3347, 3374]"
      ]
     },
     "execution_count": 28,
     "metadata": {},
     "output_type": "execute_result"
    }
   ],
   "source": [
    "# Övningsuppgift visa ett cirkeldiagram över purchase_frequency\n",
    "# [\"high\", \"medium\", \"low\"]\n",
    "\n",
    "high_purchase_frequency_count = df[df[\"purchase_frequency\"] == \"high\"].shape[0]\n",
    "medium_purchase_frequency_count = df[df[\"purchase_frequency\"] == \"medium\"].shape[0]\n",
    "low_purchase_frequency_count = df[df[\"purchase_frequency\"] == \"low\"].shape[0]\n",
    "\n",
    "purchase_frequency_data = [low_purchase_frequency_count, \n",
    "                           medium_purchase_frequency_count, \n",
    "                           high_purchase_frequency_count\n",
    "                          ]\n",
    "\n",
    "purchase_frequency_data"
   ]
  },
  {
   "cell_type": "code",
   "execution_count": 33,
   "id": "7b19e973",
   "metadata": {},
   "outputs": [
    {
     "data": {
      "text/html": [
       "<div>\n",
       "<style scoped>\n",
       "    .dataframe tbody tr th:only-of-type {\n",
       "        vertical-align: middle;\n",
       "    }\n",
       "\n",
       "    .dataframe tbody tr th {\n",
       "        vertical-align: top;\n",
       "    }\n",
       "\n",
       "    .dataframe thead th {\n",
       "        text-align: right;\n",
       "    }\n",
       "</style>\n",
       "<table border=\"1\" class=\"dataframe\">\n",
       "  <thead>\n",
       "    <tr style=\"text-align: right;\">\n",
       "      <th></th>\n",
       "      <th>counts</th>\n",
       "    </tr>\n",
       "  </thead>\n",
       "  <tbody>\n",
       "    <tr>\n",
       "      <th>low</th>\n",
       "      <td>3279</td>\n",
       "    </tr>\n",
       "    <tr>\n",
       "      <th>medium</th>\n",
       "      <td>3347</td>\n",
       "    </tr>\n",
       "    <tr>\n",
       "      <th>high</th>\n",
       "      <td>3374</td>\n",
       "    </tr>\n",
       "  </tbody>\n",
       "</table>\n",
       "</div>"
      ],
      "text/plain": [
       "        counts\n",
       "low       3279\n",
       "medium    3347\n",
       "high      3374"
      ]
     },
     "execution_count": 33,
     "metadata": {},
     "output_type": "execute_result"
    }
   ],
   "source": [
    "purchase_frequency_df = pd.DataFrame({'counts': purchase_frequency_data}, \n",
    "                                     index=[\"low\", \"medium\", \"high\"])\n",
    "\n",
    "purchase_frequency_df"
   ]
  },
  {
   "cell_type": "code",
   "execution_count": 34,
   "id": "efa94765",
   "metadata": {},
   "outputs": [
    {
     "data": {
      "text/plain": [
       "<AxesSubplot:ylabel='counts'>"
      ]
     },
     "execution_count": 34,
     "metadata": {},
     "output_type": "execute_result"
    },
    {
     "data": {
      "image/png": "[encoded data removed]",
      "text/plain": [
       "<Figure size 216x216 with 1 Axes>"
      ]
     },
     "metadata": {},
     "output_type": "display_data"
    }
   ],
   "source": [
    "purchase_frequency_df.plot.pie(y=\"counts\", figsize=(3, 3))"
   ]
  }
 ],
 "metadata": {
  "kernelspec": {
   "display_name": "Python 3 (ipykernel)",
   "language": "python",
   "name": "python3"
  },
  "language_info": {
   "codemirror_mode": {
    "name": "ipython",
    "version": 3
   },
   "file_extension": ".py",
   "mimetype": "text/x-python",
   "name": "python",
   "nbconvert_exporter": "python",
   "pygments_lexer": "ipython3",
   "version": "3.9.12"
  }
 },
 "nbformat": 4,
 "nbformat_minor": 5
}
