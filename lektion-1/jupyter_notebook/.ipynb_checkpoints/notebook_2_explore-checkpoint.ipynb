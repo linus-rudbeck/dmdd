{
 "cells": [
  {
   "cell_type": "markdown",
   "id": "cb0f213f",
   "metadata": {},
   "source": [
    "# Undersök kunddata\n",
    "\n",
    "bla bla bla"
   ]
  },
  {
   "cell_type": "code",
   "execution_count": 43,
   "id": "e4b13946",
   "metadata": {},
   "outputs": [
    {
     "data": {
      "text/html": [
       "<div>\n",
       "<style scoped>\n",
       "    .dataframe tbody tr th:only-of-type {\n",
       "        vertical-align: middle;\n",
       "    }\n",
       "\n",
       "    .dataframe tbody tr th {\n",
       "        vertical-align: top;\n",
       "    }\n",
       "\n",
       "    .dataframe thead th {\n",
       "        text-align: right;\n",
       "    }\n",
       "</style>\n",
       "<table border=\"1\" class=\"dataframe\">\n",
       "  <thead>\n",
       "    <tr style=\"text-align: right;\">\n",
       "      <th></th>\n",
       "      <th>name</th>\n",
       "      <th>age</th>\n",
       "      <th>email</th>\n",
       "      <th>phone</th>\n",
       "      <th>purchase_frequency</th>\n",
       "    </tr>\n",
       "  </thead>\n",
       "  <tbody>\n",
       "    <tr>\n",
       "      <th>0</th>\n",
       "      <td>Jack Jennings</td>\n",
       "      <td>40</td>\n",
       "      <td>jack.jennings@distansakademin.se</td>\n",
       "      <td>0772-268726</td>\n",
       "      <td>high</td>\n",
       "    </tr>\n",
       "    <tr>\n",
       "      <th>1</th>\n",
       "      <td>Jesse Jacksön</td>\n",
       "      <td>31</td>\n",
       "      <td>jesse.jackson@distansakademin.se</td>\n",
       "      <td>0752-745119</td>\n",
       "      <td>high</td>\n",
       "    </tr>\n",
       "    <tr>\n",
       "      <th>2</th>\n",
       "      <td>Jane Jöhanssön</td>\n",
       "      <td>19</td>\n",
       "      <td>jane.johansson@distansakademin.se</td>\n",
       "      <td>0774-522360</td>\n",
       "      <td>medium</td>\n",
       "    </tr>\n",
       "    <tr>\n",
       "      <th>3</th>\n",
       "      <td>Jane Jöhnsön</td>\n",
       "      <td>59</td>\n",
       "      <td>jane.johnson@distansakademin.se</td>\n",
       "      <td>0772-854728</td>\n",
       "      <td>low</td>\n",
       "    </tr>\n",
       "    <tr>\n",
       "      <th>4</th>\n",
       "      <td>Jenny Janssen</td>\n",
       "      <td>19</td>\n",
       "      <td>jenny.janssen@distansakademin.se</td>\n",
       "      <td>0787-416139</td>\n",
       "      <td>high</td>\n",
       "    </tr>\n",
       "  </tbody>\n",
       "</table>\n",
       "</div>"
      ],
      "text/plain": [
       "             name  age                              email        phone  \\\n",
       "0   Jack Jennings   40   jack.jennings@distansakademin.se  0772-268726   \n",
       "1   Jesse Jacksön   31   jesse.jackson@distansakademin.se  0752-745119   \n",
       "2  Jane Jöhanssön   19  jane.johansson@distansakademin.se  0774-522360   \n",
       "3    Jane Jöhnsön   59    jane.johnson@distansakademin.se  0772-854728   \n",
       "4   Jenny Janssen   19   jenny.janssen@distansakademin.se  0787-416139   \n",
       "\n",
       "  purchase_frequency  \n",
       "0               high  \n",
       "1               high  \n",
       "2             medium  \n",
       "3                low  \n",
       "4               high  "
      ]
     },
     "execution_count": 43,
     "metadata": {},
     "output_type": "execute_result"
    }
   ],
   "source": [
    "import pandas as pd\n",
    "\n",
    "df = pd.read_csv('customer_data.csv')\n",
    "dfov = pd.read_csv('customer_data_only_valid.csv')\n",
    "\n",
    "dfov.head()"
   ]
  },
  {
   "cell_type": "code",
   "execution_count": 17,
   "id": "423562cf",
   "metadata": {},
   "outputs": [
    {
     "name": "stdout",
     "output_type": "stream",
     "text": [
      "<class 'pandas.core.frame.DataFrame'>\n",
      "RangeIndex: 10000 entries, 0 to 9999\n",
      "Data columns (total 5 columns):\n",
      " #   Column              Non-Null Count  Dtype \n",
      "---  ------              --------------  ----- \n",
      " 0   name                10000 non-null  object\n",
      " 1   age                 10000 non-null  int64 \n",
      " 2   email               10000 non-null  object\n",
      " 3   phone               10000 non-null  object\n",
      " 4   purchase_frequency  10000 non-null  object\n",
      "dtypes: int64(1), object(4)\n",
      "memory usage: 390.8+ KB\n"
     ]
    }
   ],
   "source": [
    "# Information / sammanfattning om vår data\n",
    "dfov.info()"
   ]
  },
  {
   "cell_type": "code",
   "execution_count": 18,
   "id": "50e60f92",
   "metadata": {},
   "outputs": [
    {
     "data": {
      "text/html": [
       "<div>\n",
       "<style scoped>\n",
       "    .dataframe tbody tr th:only-of-type {\n",
       "        vertical-align: middle;\n",
       "    }\n",
       "\n",
       "    .dataframe tbody tr th {\n",
       "        vertical-align: top;\n",
       "    }\n",
       "\n",
       "    .dataframe thead th {\n",
       "        text-align: right;\n",
       "    }\n",
       "</style>\n",
       "<table border=\"1\" class=\"dataframe\">\n",
       "  <thead>\n",
       "    <tr style=\"text-align: right;\">\n",
       "      <th></th>\n",
       "      <th>age</th>\n",
       "    </tr>\n",
       "  </thead>\n",
       "  <tbody>\n",
       "    <tr>\n",
       "      <th>count</th>\n",
       "      <td>10000.000000</td>\n",
       "    </tr>\n",
       "    <tr>\n",
       "      <th>mean</th>\n",
       "      <td>41.318400</td>\n",
       "    </tr>\n",
       "    <tr>\n",
       "      <th>std</th>\n",
       "      <td>13.872882</td>\n",
       "    </tr>\n",
       "    <tr>\n",
       "      <th>min</th>\n",
       "      <td>18.000000</td>\n",
       "    </tr>\n",
       "    <tr>\n",
       "      <th>25%</th>\n",
       "      <td>29.000000</td>\n",
       "    </tr>\n",
       "    <tr>\n",
       "      <th>50%</th>\n",
       "      <td>41.000000</td>\n",
       "    </tr>\n",
       "    <tr>\n",
       "      <th>75%</th>\n",
       "      <td>53.000000</td>\n",
       "    </tr>\n",
       "    <tr>\n",
       "      <th>max</th>\n",
       "      <td>65.000000</td>\n",
       "    </tr>\n",
       "  </tbody>\n",
       "</table>\n",
       "</div>"
      ],
      "text/plain": [
       "                age\n",
       "count  10000.000000\n",
       "mean      41.318400\n",
       "std       13.872882\n",
       "min       18.000000\n",
       "25%       29.000000\n",
       "50%       41.000000\n",
       "75%       53.000000\n",
       "max       65.000000"
      ]
     },
     "execution_count": 18,
     "metadata": {},
     "output_type": "execute_result"
    }
   ],
   "source": [
    "dfov.describe()"
   ]
  },
  {
   "cell_type": "code",
   "execution_count": 19,
   "id": "2cf7e2f0",
   "metadata": {},
   "outputs": [
    {
     "data": {
      "text/plain": [
       "0         high\n",
       "1         high\n",
       "2       medium\n",
       "3          low\n",
       "4         high\n",
       "         ...  \n",
       "9995       low\n",
       "9996    medium\n",
       "9997    medium\n",
       "9998    medium\n",
       "9999      high\n",
       "Name: purchase_frequency, Length: 10000, dtype: object"
      ]
     },
     "execution_count": 19,
     "metadata": {},
     "output_type": "execute_result"
    }
   ],
   "source": [
    "dfov[\"purchase_frequency\"]"
   ]
  },
  {
   "cell_type": "code",
   "execution_count": 21,
   "id": "20ca3f02",
   "metadata": {},
   "outputs": [
    {
     "data": {
      "text/plain": [
       "medium    3404\n",
       "high      3307\n",
       "low       3289\n",
       "Name: purchase_frequency, dtype: int64"
      ]
     },
     "execution_count": 21,
     "metadata": {},
     "output_type": "execute_result"
    }
   ],
   "source": [
    "dfov[\"purchase_frequency\"].value_counts()"
   ]
  },
  {
   "cell_type": "code",
   "execution_count": 23,
   "id": "5237d332",
   "metadata": {
    "scrolled": true
   },
   "outputs": [
    {
     "data": {
      "text/plain": [
       "invalid_age    1710\n",
       "58              204\n",
       "43              195\n",
       "33              192\n",
       "49              191\n",
       "36              190\n",
       "56              183\n",
       "18              181\n",
       "54              179\n",
       "30              179\n",
       "39              178\n",
       "61              178\n",
       "23              177\n",
       "38              176\n",
       "25              176\n",
       "52              176\n",
       "46              175\n",
       "47              175\n",
       "35              175\n",
       "37              174\n",
       "55              174\n",
       "57              173\n",
       "59              172\n",
       "65              172\n",
       "28              171\n",
       "41              171\n",
       "24              171\n",
       "22              171\n",
       "64              170\n",
       "45              170\n",
       "63              170\n",
       "20              170\n",
       "44              169\n",
       "53              168\n",
       "51              168\n",
       "42              168\n",
       "32              167\n",
       "48              166\n",
       "29              166\n",
       "60              163\n",
       "40              163\n",
       "19              162\n",
       "50              162\n",
       "62              162\n",
       "34              161\n",
       "31              160\n",
       "21              160\n",
       "27              159\n",
       "26              157\n",
       "Name: age, dtype: int64"
      ]
     },
     "execution_count": 23,
     "metadata": {},
     "output_type": "execute_result"
    }
   ],
   "source": [
    "df[\"age\"].value_counts()"
   ]
  },
  {
   "cell_type": "code",
   "execution_count": 26,
   "id": "14daf788",
   "metadata": {},
   "outputs": [
    {
     "data": {
      "text/html": [
       "<div>\n",
       "<style scoped>\n",
       "    .dataframe tbody tr th:only-of-type {\n",
       "        vertical-align: middle;\n",
       "    }\n",
       "\n",
       "    .dataframe tbody tr th {\n",
       "        vertical-align: top;\n",
       "    }\n",
       "\n",
       "    .dataframe thead th {\n",
       "        text-align: right;\n",
       "    }\n",
       "</style>\n",
       "<table border=\"1\" class=\"dataframe\">\n",
       "  <thead>\n",
       "    <tr style=\"text-align: right;\">\n",
       "      <th></th>\n",
       "      <th>name</th>\n",
       "      <th>age</th>\n",
       "      <th>email</th>\n",
       "      <th>phone</th>\n",
       "      <th>purchase_frequency</th>\n",
       "    </tr>\n",
       "  </thead>\n",
       "  <tbody>\n",
       "    <tr>\n",
       "      <th>9995</th>\n",
       "      <td>Jim Jenkins</td>\n",
       "      <td>50</td>\n",
       "      <td>jim.jenkins@distansakademin.se</td>\n",
       "      <td>0733-417754</td>\n",
       "      <td>medium</td>\n",
       "    </tr>\n",
       "    <tr>\n",
       "      <th>9996</th>\n",
       "      <td>Jöhn Jöhnsön</td>\n",
       "      <td>20</td>\n",
       "      <td>john.johnson@distansakademin.se</td>\n",
       "      <td>0747-451072</td>\n",
       "      <td>high</td>\n",
       "    </tr>\n",
       "    <tr>\n",
       "      <th>9997</th>\n",
       "      <td>Jenny Jöhanssön</td>\n",
       "      <td>52</td>\n",
       "      <td>jenny.johansson@distansakademin.se</td>\n",
       "      <td>0736-878179</td>\n",
       "      <td>high</td>\n",
       "    </tr>\n",
       "    <tr>\n",
       "      <th>9998</th>\n",
       "      <td>Jack Jöhanssön</td>\n",
       "      <td>41</td>\n",
       "      <td>jack.johansson@distansakademin.se</td>\n",
       "      <td>0743-927725</td>\n",
       "      <td>medium</td>\n",
       "    </tr>\n",
       "    <tr>\n",
       "      <th>9999</th>\n",
       "      <td>Jack Jöhnsön</td>\n",
       "      <td>32</td>\n",
       "      <td>jack.johnson@distansakademin.se</td>\n",
       "      <td>0735-446912</td>\n",
       "      <td>low</td>\n",
       "    </tr>\n",
       "  </tbody>\n",
       "</table>\n",
       "</div>"
      ],
      "text/plain": [
       "                 name age                               email        phone  \\\n",
       "9995      Jim Jenkins  50      jim.jenkins@distansakademin.se  0733-417754   \n",
       "9996     Jöhn Jöhnsön  20     john.johnson@distansakademin.se  0747-451072   \n",
       "9997  Jenny Jöhanssön  52  jenny.johansson@distansakademin.se  0736-878179   \n",
       "9998   Jack Jöhanssön  41   jack.johansson@distansakademin.se  0743-927725   \n",
       "9999     Jack Jöhnsön  32     jack.johnson@distansakademin.se  0735-446912   \n",
       "\n",
       "     purchase_frequency  \n",
       "9995             medium  \n",
       "9996               high  \n",
       "9997               high  \n",
       "9998             medium  \n",
       "9999                low  "
      ]
     },
     "execution_count": 26,
     "metadata": {},
     "output_type": "execute_result"
    }
   ],
   "source": [
    "df.tail()"
   ]
  },
  {
   "cell_type": "code",
   "execution_count": 27,
   "id": "a000eec8",
   "metadata": {},
   "outputs": [
    {
     "data": {
      "text/html": [
       "<div>\n",
       "<style scoped>\n",
       "    .dataframe tbody tr th:only-of-type {\n",
       "        vertical-align: middle;\n",
       "    }\n",
       "\n",
       "    .dataframe tbody tr th {\n",
       "        vertical-align: top;\n",
       "    }\n",
       "\n",
       "    .dataframe thead th {\n",
       "        text-align: right;\n",
       "    }\n",
       "</style>\n",
       "<table border=\"1\" class=\"dataframe\">\n",
       "  <thead>\n",
       "    <tr style=\"text-align: right;\">\n",
       "      <th></th>\n",
       "      <th>name</th>\n",
       "      <th>age</th>\n",
       "      <th>email</th>\n",
       "      <th>phone</th>\n",
       "      <th>purchase_frequency</th>\n",
       "    </tr>\n",
       "  </thead>\n",
       "  <tbody>\n",
       "    <tr>\n",
       "      <th>9995</th>\n",
       "      <td>Jade Jönes</td>\n",
       "      <td>44</td>\n",
       "      <td>jade.jones@distansakademin.se</td>\n",
       "      <td>0717-632360</td>\n",
       "      <td>low</td>\n",
       "    </tr>\n",
       "    <tr>\n",
       "      <th>9996</th>\n",
       "      <td>Jesse Jacksön</td>\n",
       "      <td>64</td>\n",
       "      <td>jesse.jackson@distansakademin.se</td>\n",
       "      <td>0762-509258</td>\n",
       "      <td>medium</td>\n",
       "    </tr>\n",
       "    <tr>\n",
       "      <th>9997</th>\n",
       "      <td>Jenny Jenkins</td>\n",
       "      <td>59</td>\n",
       "      <td>jenny.jenkins@distansakademin.se</td>\n",
       "      <td>0732-468574</td>\n",
       "      <td>medium</td>\n",
       "    </tr>\n",
       "    <tr>\n",
       "      <th>9998</th>\n",
       "      <td>Jenny Smith</td>\n",
       "      <td>54</td>\n",
       "      <td>jenny.smith@distansakademin.se</td>\n",
       "      <td>0724-294835</td>\n",
       "      <td>medium</td>\n",
       "    </tr>\n",
       "    <tr>\n",
       "      <th>9999</th>\n",
       "      <td>Jasper Jöhnsön</td>\n",
       "      <td>43</td>\n",
       "      <td>jasper.johnson@distansakademin.se</td>\n",
       "      <td>0774-112567</td>\n",
       "      <td>high</td>\n",
       "    </tr>\n",
       "  </tbody>\n",
       "</table>\n",
       "</div>"
      ],
      "text/plain": [
       "                name  age                              email        phone  \\\n",
       "9995      Jade Jönes   44      jade.jones@distansakademin.se  0717-632360   \n",
       "9996   Jesse Jacksön   64   jesse.jackson@distansakademin.se  0762-509258   \n",
       "9997   Jenny Jenkins   59   jenny.jenkins@distansakademin.se  0732-468574   \n",
       "9998     Jenny Smith   54     jenny.smith@distansakademin.se  0724-294835   \n",
       "9999  Jasper Jöhnsön   43  jasper.johnson@distansakademin.se  0774-112567   \n",
       "\n",
       "     purchase_frequency  \n",
       "9995                low  \n",
       "9996             medium  \n",
       "9997             medium  \n",
       "9998             medium  \n",
       "9999               high  "
      ]
     },
     "execution_count": 27,
     "metadata": {},
     "output_type": "execute_result"
    }
   ],
   "source": [
    "dfov.tail()"
   ]
  },
  {
   "cell_type": "code",
   "execution_count": 30,
   "id": "b042146f",
   "metadata": {},
   "outputs": [
    {
     "data": {
      "text/plain": [
       "5"
      ]
     },
     "execution_count": 30,
     "metadata": {},
     "output_type": "execute_result"
    }
   ],
   "source": [
    "df.shape[0]"
   ]
  },
  {
   "cell_type": "code",
   "execution_count": 32,
   "id": "566eccd6",
   "metadata": {},
   "outputs": [
    {
     "data": {
      "text/plain": [
       "(10000, 5)"
      ]
     },
     "execution_count": 32,
     "metadata": {},
     "output_type": "execute_result"
    }
   ],
   "source": [
    "dfov.shape"
   ]
  },
  {
   "cell_type": "code",
   "execution_count": 35,
   "id": "9ae74df1",
   "metadata": {},
   "outputs": [
    {
     "data": {
      "text/plain": [
       "name                  object\n",
       "age                    int64\n",
       "email                 object\n",
       "phone                 object\n",
       "purchase_frequency    object\n",
       "dtype: object"
      ]
     },
     "execution_count": 35,
     "metadata": {},
     "output_type": "execute_result"
    }
   ],
   "source": [
    "dfov.dtypes"
   ]
  },
  {
   "cell_type": "code",
   "execution_count": 36,
   "id": "7efb9907",
   "metadata": {},
   "outputs": [
    {
     "data": {
      "text/plain": [
       "name                    90\n",
       "age                     49\n",
       "email                   91\n",
       "phone                 9998\n",
       "purchase_frequency       3\n",
       "dtype: int64"
      ]
     },
     "execution_count": 36,
     "metadata": {},
     "output_type": "execute_result"
    }
   ],
   "source": [
    "df.nunique()"
   ]
  },
  {
   "cell_type": "code",
   "execution_count": 39,
   "id": "cc17e4bf",
   "metadata": {},
   "outputs": [
    {
     "data": {
      "text/plain": [
       "name                  0\n",
       "age                   0\n",
       "email                 0\n",
       "phone                 0\n",
       "purchase_frequency    0\n",
       "dtype: int64"
      ]
     },
     "execution_count": 39,
     "metadata": {},
     "output_type": "execute_result"
    }
   ],
   "source": [
    "dfov.isna().sum()"
   ]
  },
  {
   "cell_type": "code",
   "execution_count": 48,
   "id": "13df7a36",
   "metadata": {},
   "outputs": [
    {
     "data": {
      "text/plain": [
       "1235"
      ]
     },
     "execution_count": 48,
     "metadata": {},
     "output_type": "execute_result"
    }
   ],
   "source": [
    "df[df[\"email\"] == \"invalid_mail\"].shape[0]"
   ]
  },
  {
   "cell_type": "code",
   "execution_count": 51,
   "id": "cd6954ae",
   "metadata": {},
   "outputs": [
    {
     "data": {
      "text/plain": [
       "1710"
      ]
     },
     "execution_count": 51,
     "metadata": {},
     "output_type": "execute_result"
    }
   ],
   "source": [
    "df[df[\"age\"] == \"invalid_age\"].shape[0]"
   ]
  },
  {
   "cell_type": "code",
   "execution_count": 53,
   "id": "e80f110f",
   "metadata": {},
   "outputs": [
    {
     "data": {
      "text/html": [
       "<div>\n",
       "<style scoped>\n",
       "    .dataframe tbody tr th:only-of-type {\n",
       "        vertical-align: middle;\n",
       "    }\n",
       "\n",
       "    .dataframe tbody tr th {\n",
       "        vertical-align: top;\n",
       "    }\n",
       "\n",
       "    .dataframe thead th {\n",
       "        text-align: right;\n",
       "    }\n",
       "</style>\n",
       "<table border=\"1\" class=\"dataframe\">\n",
       "  <thead>\n",
       "    <tr style=\"text-align: right;\">\n",
       "      <th></th>\n",
       "      <th>name</th>\n",
       "      <th>age</th>\n",
       "      <th>email</th>\n",
       "      <th>phone</th>\n",
       "      <th>purchase_frequency</th>\n",
       "    </tr>\n",
       "  </thead>\n",
       "  <tbody>\n",
       "    <tr>\n",
       "      <th>156</th>\n",
       "      <td>Jill Jönes</td>\n",
       "      <td>37</td>\n",
       "      <td>jill.jones@distansakademin.se</td>\n",
       "      <td>0736-782232</td>\n",
       "      <td>medium</td>\n",
       "    </tr>\n",
       "    <tr>\n",
       "      <th>206</th>\n",
       "      <td>Jack Jönes</td>\n",
       "      <td>invalid_age</td>\n",
       "      <td>jack.jones@distansakademin.se</td>\n",
       "      <td>0736-366036</td>\n",
       "      <td>medium</td>\n",
       "    </tr>\n",
       "    <tr>\n",
       "      <th>220</th>\n",
       "      <td>Jill Jennings</td>\n",
       "      <td>invalid_age</td>\n",
       "      <td>invalid_mail</td>\n",
       "      <td>0736-294382</td>\n",
       "      <td>high</td>\n",
       "    </tr>\n",
       "    <tr>\n",
       "      <th>381</th>\n",
       "      <td>Jane Janssen</td>\n",
       "      <td>invalid_age</td>\n",
       "      <td>jane.janssen@distansakademin.se</td>\n",
       "      <td>0736-453155</td>\n",
       "      <td>medium</td>\n",
       "    </tr>\n",
       "    <tr>\n",
       "      <th>399</th>\n",
       "      <td>Jöhn Jennings</td>\n",
       "      <td>45</td>\n",
       "      <td>invalid_mail</td>\n",
       "      <td>0736-889918</td>\n",
       "      <td>high</td>\n",
       "    </tr>\n",
       "    <tr>\n",
       "      <th>...</th>\n",
       "      <td>...</td>\n",
       "      <td>...</td>\n",
       "      <td>...</td>\n",
       "      <td>...</td>\n",
       "      <td>...</td>\n",
       "    </tr>\n",
       "    <tr>\n",
       "      <th>9418</th>\n",
       "      <td>Jill Jensen</td>\n",
       "      <td>invalid_age</td>\n",
       "      <td>jill.jensen@distansakademin.se</td>\n",
       "      <td>0736-735997</td>\n",
       "      <td>high</td>\n",
       "    </tr>\n",
       "    <tr>\n",
       "      <th>9425</th>\n",
       "      <td>Jöhn Jönes</td>\n",
       "      <td>59</td>\n",
       "      <td>john.jones@distansakademin.se</td>\n",
       "      <td>0736-285654</td>\n",
       "      <td>high</td>\n",
       "    </tr>\n",
       "    <tr>\n",
       "      <th>9483</th>\n",
       "      <td>Jade Janssen</td>\n",
       "      <td>53</td>\n",
       "      <td>jade.janssen@distansakademin.se</td>\n",
       "      <td>0736-902903</td>\n",
       "      <td>medium</td>\n",
       "    </tr>\n",
       "    <tr>\n",
       "      <th>9521</th>\n",
       "      <td>Jane Jennings</td>\n",
       "      <td>33</td>\n",
       "      <td>invalid_mail</td>\n",
       "      <td>0736-297094</td>\n",
       "      <td>low</td>\n",
       "    </tr>\n",
       "    <tr>\n",
       "      <th>9997</th>\n",
       "      <td>Jenny Jöhanssön</td>\n",
       "      <td>52</td>\n",
       "      <td>jenny.johansson@distansakademin.se</td>\n",
       "      <td>0736-878179</td>\n",
       "      <td>high</td>\n",
       "    </tr>\n",
       "  </tbody>\n",
       "</table>\n",
       "<p>112 rows × 5 columns</p>\n",
       "</div>"
      ],
      "text/plain": [
       "                 name          age                               email  \\\n",
       "156        Jill Jönes           37       jill.jones@distansakademin.se   \n",
       "206        Jack Jönes  invalid_age       jack.jones@distansakademin.se   \n",
       "220     Jill Jennings  invalid_age                        invalid_mail   \n",
       "381      Jane Janssen  invalid_age     jane.janssen@distansakademin.se   \n",
       "399     Jöhn Jennings           45                        invalid_mail   \n",
       "...               ...          ...                                 ...   \n",
       "9418      Jill Jensen  invalid_age      jill.jensen@distansakademin.se   \n",
       "9425       Jöhn Jönes           59       john.jones@distansakademin.se   \n",
       "9483     Jade Janssen           53     jade.janssen@distansakademin.se   \n",
       "9521    Jane Jennings           33                        invalid_mail   \n",
       "9997  Jenny Jöhanssön           52  jenny.johansson@distansakademin.se   \n",
       "\n",
       "            phone purchase_frequency  \n",
       "156   0736-782232             medium  \n",
       "206   0736-366036             medium  \n",
       "220   0736-294382               high  \n",
       "381   0736-453155             medium  \n",
       "399   0736-889918               high  \n",
       "...           ...                ...  \n",
       "9418  0736-735997               high  \n",
       "9425  0736-285654               high  \n",
       "9483  0736-902903             medium  \n",
       "9521  0736-297094                low  \n",
       "9997  0736-878179               high  \n",
       "\n",
       "[112 rows x 5 columns]"
      ]
     },
     "execution_count": 53,
     "metadata": {},
     "output_type": "execute_result"
    }
   ],
   "source": [
    "df[df[\"phone\"].str.contains(\"0736-\")]"
   ]
  },
  {
   "cell_type": "code",
   "execution_count": 58,
   "id": "187cf08d",
   "metadata": {},
   "outputs": [
    {
     "data": {
      "text/plain": [
       "0"
      ]
     },
     "execution_count": 58,
     "metadata": {},
     "output_type": "execute_result"
    }
   ],
   "source": [
    "df[df.isna().any(axis=1)].shape[0]"
   ]
  }
 ],
 "metadata": {
  "kernelspec": {
   "display_name": "Python 3 (ipykernel)",
   "language": "python",
   "name": "python3"
  },
  "language_info": {
   "codemirror_mode": {
    "name": "ipython",
    "version": 3
   },
   "file_extension": ".py",
   "mimetype": "text/x-python",
   "name": "python",
   "nbconvert_exporter": "python",
   "pygments_lexer": "ipython3",
   "version": "3.9.12"
  }
 },
 "nbformat": 4,
 "nbformat_minor": 5
}
