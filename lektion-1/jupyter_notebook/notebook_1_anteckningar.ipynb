{
 "cells": [
  {
   "cell_type": "markdown",
   "id": "37406c97",
   "metadata": {},
   "source": [
    "# Min första notebook\n",
    "\n",
    "Hej jag heter Linus och jag skapar en notebook\n",
    "\n",
    "`[ctrl]/[cmd]` + `[enter]`: kör koden\n",
    "\n",
    "`[shift]` + `[enter]`: kör koden och gå vidare"
   ]
  },
  {
   "cell_type": "code",
   "execution_count": 2,
   "id": "1c763dfd",
   "metadata": {},
   "outputs": [
    {
     "name": "stdout",
     "output_type": "stream",
     "text": [
      "Hello notebook!\n"
     ]
    }
   ],
   "source": [
    "print(\"Hello notebook!\")\n",
    "\n",
    "my_name = \"Linus\""
   ]
  },
  {
   "cell_type": "code",
   "execution_count": 3,
   "id": "0b8434d3",
   "metadata": {},
   "outputs": [
    {
     "name": "stdout",
     "output_type": "stream",
     "text": [
      "0\n",
      "1\n",
      "2\n",
      "3\n",
      "4\n",
      "5\n",
      "6\n",
      "7\n",
      "8\n",
      "9\n"
     ]
    }
   ],
   "source": [
    "for i in range(0,10):\n",
    "    print(i)"
   ]
  },
  {
   "cell_type": "code",
   "execution_count": 4,
   "id": "b9623a09",
   "metadata": {},
   "outputs": [
    {
     "name": "stdout",
     "output_type": "stream",
     "text": [
      "Linus\n"
     ]
    }
   ],
   "source": [
    "print(my_name)"
   ]
  },
  {
   "cell_type": "code",
   "execution_count": 5,
   "id": "4b4cd2de",
   "metadata": {},
   "outputs": [
    {
     "data": {
      "text/plain": [
       "'Linus'"
      ]
     },
     "execution_count": 5,
     "metadata": {},
     "output_type": "execute_result"
    }
   ],
   "source": [
    "my_name"
   ]
  }
 ],
 "metadata": {
  "kernelspec": {
   "display_name": "Python 3 (ipykernel)",
   "language": "python",
   "name": "python3"
  },
  "language_info": {
   "codemirror_mode": {
    "name": "ipython",
    "version": 3
   },
   "file_extension": ".py",
   "mimetype": "text/x-python",
   "name": "python",
   "nbconvert_exporter": "python",
   "pygments_lexer": "ipython3",
   "version": "3.9.12"
  }
 },
 "nbformat": 4,
 "nbformat_minor": 5
}
